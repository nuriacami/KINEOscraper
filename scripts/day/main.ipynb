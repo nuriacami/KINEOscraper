{
 "cells": [
  {
   "cell_type": "markdown",
   "id": "1d023949-ab25-4aaa-8207-77a84af8b8a5",
   "metadata": {},
   "source": [
    "# 1. Setup Driver"
   ]
  },
  {
   "cell_type": "code",
   "execution_count": 1,
   "id": "08fa7fa6-84cd-4bb7-8bd3-90aa3d4a84ee",
   "metadata": {},
   "outputs": [],
   "source": [
    "import sys\n",
    "sys.path.append(\"../../\")\n",
    "from src.driver import setup_driver\n",
    "driver = setup_driver()"
   ]
  },
  {
   "cell_type": "markdown",
   "id": "29120114-e414-444d-b054-2d1f493370c6",
   "metadata": {},
   "source": [
    "# 2. Access to KINEO - informe por horas "
   ]
  },
  {
   "cell_type": "code",
   "execution_count": 2,
   "id": "cb9838b2-8494-41c9-b41b-4674ea629b39",
   "metadata": {},
   "outputs": [],
   "source": [
    "from src.login import login\n",
    "from private.config import USER_KEY, PASS_KEY\n",
    "\n",
    "# login KINEO\n",
    "login(driver,\n",
    "      url = 'https://aforadores.mitma.es/contadorestraficofomento/Login.aspx',\n",
    "      username = USER_KEY, \n",
    "      password = PASS_KEY)"
   ]
  },
  {
   "cell_type": "code",
   "execution_count": 3,
   "id": "1cb02104-4774-45c0-8db4-2522addd7730",
   "metadata": {},
   "outputs": [],
   "source": [
    "from src.dropdown import get_all_combinations\n",
    "driver.get('https://aforadores.mitma.es/contadorestraficofomento/InformePorHorasCalzadaCarrilAforo.aspx')\n",
    "get_all_combinations(driver, 'ctl00_ContentPlaceHolderDatos_CbDemarcacion_B-1', 'ctl00_ContentPlaceHolderDatos_CbEtd_B-1', '../../input/values.py')"
   ]
  },
  {
   "cell_type": "markdown",
   "id": "4ec1ff40-4191-4d40-90e4-0cac7db9d29f",
   "metadata": {},
   "source": [
    "# 3. Make the requests and download data"
   ]
  },
  {
   "cell_type": "code",
   "execution_count": 7,
   "id": "d4e58203-a321-49ba-a65d-ec74d0b5f25a",
   "metadata": {},
   "outputs": [
    {
     "name": "stdout",
     "output_type": "stream",
     "text": [
      "{'demarcacion': 'TARRAGONA04', 'etd': ['AP7-262+925-100620000000', 'AP7-278+800-100630000000', 'AP7-295+210-100640000000', 'AP7-307+200-100680000000', 'AP7-315+300-100690000000', 'AP7-321+180-100700000000']}\n",
      "AP7-262+925-100620000000\n",
      "he seleccionat la etd\n",
      "he seleccionat data i desglose\n",
      "faig scroll\n",
      "clico ver\n",
      "taula creada\n",
      "baixada feta\n",
      "AP7-278+800-100630000000\n",
      "he seleccionat la etd\n",
      "he seleccionat data i desglose\n",
      "faig scroll\n",
      "clico ver\n",
      "taula creada\n",
      "baixada feta\n",
      "AP7-295+210-100640000000\n",
      "he seleccionat la etd\n",
      "he seleccionat data i desglose\n",
      "faig scroll\n",
      "clico ver\n",
      "taula creada\n",
      "baixada feta\n",
      "AP7-307+200-100680000000\n",
      "he seleccionat la etd\n",
      "he seleccionat data i desglose\n",
      "faig scroll\n",
      "clico ver\n",
      "taula creada\n",
      "baixada feta\n",
      "AP7-315+300-100690000000\n",
      "he seleccionat la etd\n",
      "he seleccionat data i desglose\n",
      "faig scroll\n",
      "clico ver\n",
      "taula creada\n",
      "baixada feta\n",
      "AP7-321+180-100700000000\n",
      "he seleccionat la etd\n",
      "he seleccionat data i desglose\n",
      "faig scroll\n",
      "clico ver\n",
      "taula creada\n",
      "baixada feta\n",
      "{'demarcacion': 'AP2 LERIDA', 'etd': ['AP2-122+700-100050000000', 'AP2-136+900-100060000000', 'AP2-160+200-100070000000', 'AP2-168+700-100080000000']}\n",
      "AP2-122+700-100050000000\n",
      "he seleccionat la etd\n",
      "he seleccionat data i desglose\n",
      "faig scroll\n",
      "clico ver\n",
      "taula creada\n",
      "baixada feta\n",
      "AP2-136+900-100060000000\n",
      "he seleccionat la etd\n",
      "he seleccionat data i desglose\n",
      "faig scroll\n",
      "clico ver\n",
      "taula creada\n",
      "baixada feta\n",
      "AP2-160+200-100070000000\n",
      "he seleccionat la etd\n",
      "he seleccionat data i desglose\n",
      "faig scroll\n",
      "clico ver\n",
      "taula creada\n",
      "baixada feta\n",
      "AP2-168+700-100080000000\n",
      "he seleccionat la etd\n",
      "he seleccionat data i desglose\n",
      "faig scroll\n",
      "clico ver\n",
      "taula creada\n",
      "baixada feta\n",
      "{'demarcacion': 'AP7 GERONA', 'etd': ['AP7-18+095-100130000000', 'AP7-32+300-100150000000', 'AP7-42+150-100160000000', 'AP7-65+800-100200000000', 'AP7-69+500-100220000000', 'AP7-0+100-100100000000', 'AP7-24+600-100140000000', 'AP7-78+080-100230000000', 'AP7-88+900-100240000000']}\n",
      "AP7-18+095-100130000000\n",
      "he seleccionat la etd\n",
      "he seleccionat data i desglose\n",
      "faig scroll\n",
      "clico ver\n",
      "taula creada\n",
      "baixada feta\n",
      "AP7-32+300-100150000000\n",
      "he seleccionat la etd\n",
      "he seleccionat data i desglose\n",
      "faig scroll\n",
      "clico ver\n",
      "taula creada\n",
      "baixada feta\n",
      "AP7-42+150-100160000000\n",
      "he seleccionat la etd\n",
      "he seleccionat data i desglose\n",
      "faig scroll\n",
      "clico ver\n",
      "taula creada\n",
      "baixada feta\n",
      "AP7-65+800-100200000000\n",
      "he seleccionat la etd\n",
      "he seleccionat data i desglose\n",
      "faig scroll\n",
      "clico ver\n",
      "taula creada\n",
      "baixada feta\n",
      "AP7-69+500-100220000000\n",
      "he seleccionat la etd\n",
      "he seleccionat data i desglose\n",
      "faig scroll\n",
      "clico ver\n",
      "taula creada\n",
      "baixada feta\n",
      "AP7-0+100-100100000000\n"
     ]
    },
    {
     "ename": "StaleElementReferenceException",
     "evalue": "Message: The element with the reference e69fb39c-b109-45eb-9ff2-3d59a6db733a is stale; either its node document is not the active document, or it is no longer connected to the DOM; For documentation on this error, please visit: https://www.selenium.dev/documentation/webdriver/troubleshooting/errors#stale-element-reference-exception\nStacktrace:\nRemoteError@chrome://remote/content/shared/RemoteError.sys.mjs:8:8\nWebDriverError@chrome://remote/content/shared/webdriver/Errors.sys.mjs:187:5\nStaleElementReferenceError@chrome://remote/content/shared/webdriver/Errors.sys.mjs:659:5\nelement.getKnownElement@chrome://remote/content/marionette/element.sys.mjs:509:11\ndeserializeJSON@chrome://remote/content/marionette/json.sys.mjs:233:33\ncloneObject@chrome://remote/content/marionette/json.sys.mjs:56:24\ndeserializeJSON@chrome://remote/content/marionette/json.sys.mjs:244:16\ncloneObject/result<@chrome://remote/content/marionette/json.sys.mjs:50:52\ncloneObject@chrome://remote/content/marionette/json.sys.mjs:50:25\ndeserializeJSON@chrome://remote/content/marionette/json.sys.mjs:244:16\ncloneObject@chrome://remote/content/marionette/json.sys.mjs:56:24\ndeserializeJSON@chrome://remote/content/marionette/json.sys.mjs:244:16\ncloneObject/result<@chrome://remote/content/marionette/json.sys.mjs:50:52\ncloneObject@chrome://remote/content/marionette/json.sys.mjs:50:25\ndeserializeJSON@chrome://remote/content/marionette/json.sys.mjs:244:16\ncloneObject@chrome://remote/content/marionette/json.sys.mjs:56:24\ndeserializeJSON@chrome://remote/content/marionette/json.sys.mjs:244:16\njson.deserialize@chrome://remote/content/marionette/json.sys.mjs:248:10\nreceiveMessage@chrome://remote/content/marionette/actors/MarionetteCommandsChild.sys.mjs:85:30\n",
     "output_type": "error",
     "traceback": [
      "\u001b[1;31m---------------------------------------------------------------------------\u001b[0m",
      "\u001b[1;31mStaleElementReferenceException\u001b[0m            Traceback (most recent call last)",
      "Cell \u001b[1;32mIn[7], line 6\u001b[0m\n\u001b[0;32m      4\u001b[0m \u001b[38;5;28;01mfor\u001b[39;00m values \u001b[38;5;129;01min\u001b[39;00m VALUES:\n\u001b[0;32m      5\u001b[0m     \u001b[38;5;28mprint\u001b[39m(values)\n\u001b[1;32m----> 6\u001b[0m     \u001b[43mdownload_data\u001b[49m\u001b[43m(\u001b[49m\u001b[43mdriver\u001b[49m\u001b[43m,\u001b[49m\n\u001b[0;32m      7\u001b[0m \u001b[43m                  \u001b[49m\u001b[43mdemarcacion\u001b[49m\u001b[43m \u001b[49m\u001b[38;5;241;43m=\u001b[39;49m\u001b[43m \u001b[49m\u001b[43mvalues\u001b[49m\u001b[43m[\u001b[49m\u001b[38;5;124;43m\"\u001b[39;49m\u001b[38;5;124;43mdemarcacion\u001b[39;49m\u001b[38;5;124;43m\"\u001b[39;49m\u001b[43m]\u001b[49m\u001b[43m,\u001b[49m\n\u001b[0;32m      8\u001b[0m \u001b[43m                  \u001b[49m\u001b[43metd\u001b[49m\u001b[43m \u001b[49m\u001b[38;5;241;43m=\u001b[39;49m\u001b[43m \u001b[49m\u001b[43mvalues\u001b[49m\u001b[43m[\u001b[49m\u001b[38;5;124;43m\"\u001b[39;49m\u001b[38;5;124;43metd\u001b[39;49m\u001b[38;5;124;43m\"\u001b[39;49m\u001b[43m]\u001b[49m\u001b[43m,\u001b[49m\n\u001b[0;32m      9\u001b[0m \u001b[43m                  \u001b[49m\u001b[43moption\u001b[49m\u001b[43m \u001b[49m\u001b[38;5;241;43m=\u001b[39;49m\u001b[43m \u001b[49m\u001b[38;5;124;43m'\u001b[39;49m\u001b[38;5;124;43mday\u001b[39;49m\u001b[38;5;124;43m'\u001b[39;49m\n\u001b[0;32m     10\u001b[0m \u001b[43m                 \u001b[49m\u001b[43m)\u001b[49m\n",
      "File \u001b[1;32m~\\Documents\\GitHub\\KINEOscraper\\scripts\\day\\../..\\src\\download.py:39\u001b[0m, in \u001b[0;36mdownload_data\u001b[1;34m(driver, demarcacion, etd, option)\u001b[0m\n\u001b[0;32m     37\u001b[0m \u001b[38;5;28mprint\u001b[39m(value_to_select_etd)\n\u001b[0;32m     38\u001b[0m \u001b[38;5;66;03m# Select 'ETD' value\u001b[39;00m\n\u001b[1;32m---> 39\u001b[0m \u001b[43mselect_dropdown_value\u001b[49m\u001b[43m(\u001b[49m\u001b[43mdriver\u001b[49m\u001b[43m,\u001b[49m\n\u001b[0;32m     40\u001b[0m \u001b[43m                      \u001b[49m\u001b[43minput_id\u001b[49m\u001b[43m \u001b[49m\u001b[38;5;241;43m=\u001b[39;49m\u001b[43m \u001b[49m\u001b[38;5;124;43m'\u001b[39;49m\u001b[38;5;124;43mctl00_ContentPlaceHolderDatos_CbEtd_I\u001b[39;49m\u001b[38;5;124;43m'\u001b[39;49m\u001b[43m,\u001b[49m\n\u001b[0;32m     41\u001b[0m \u001b[43m                      \u001b[49m\u001b[43mdropdown_button_id\u001b[49m\u001b[43m \u001b[49m\u001b[38;5;241;43m=\u001b[39;49m\u001b[43m \u001b[49m\u001b[38;5;124;43m'\u001b[39;49m\u001b[38;5;124;43mctl00_ContentPlaceHolderDatos_CbEtd_B-1\u001b[39;49m\u001b[38;5;124;43m'\u001b[39;49m\u001b[43m,\u001b[49m\n\u001b[0;32m     42\u001b[0m \u001b[43m                      \u001b[49m\u001b[43mvalue\u001b[49m\u001b[43m \u001b[49m\u001b[38;5;241;43m=\u001b[39;49m\u001b[43m \u001b[49m\u001b[43mvalue_to_select_etd\u001b[49m\u001b[43m)\u001b[49m\n\u001b[0;32m     43\u001b[0m \u001b[38;5;28mprint\u001b[39m(\u001b[38;5;124m\"\u001b[39m\u001b[38;5;124mhe seleccionat la etd\u001b[39m\u001b[38;5;124m\"\u001b[39m)\n\u001b[0;32m     44\u001b[0m sleep(\u001b[38;5;241m1\u001b[39m)\n",
      "File \u001b[1;32m~\\Documents\\GitHub\\KINEOscraper\\scripts\\day\\../..\\src\\dropdown.py:30\u001b[0m, in \u001b[0;36mselect_dropdown_value\u001b[1;34m(driver, input_id, dropdown_button_id, value)\u001b[0m\n\u001b[0;32m     28\u001b[0m     \u001b[38;5;66;03m# Ensure the element is in the viewport before clicking\u001b[39;00m\n\u001b[0;32m     29\u001b[0m     driver\u001b[38;5;241m.\u001b[39mexecute_script(\u001b[38;5;124m\"\u001b[39m\u001b[38;5;124marguments[0].scrollIntoView(true);\u001b[39m\u001b[38;5;124m\"\u001b[39m, option_to_select)        \n\u001b[1;32m---> 30\u001b[0m     \u001b[43mActionChains\u001b[49m\u001b[43m(\u001b[49m\u001b[43mdriver\u001b[49m\u001b[43m)\u001b[49m\u001b[38;5;241;43m.\u001b[39;49m\u001b[43mmove_to_element\u001b[49m\u001b[43m(\u001b[49m\u001b[43moption_to_select\u001b[49m\u001b[43m)\u001b[49m\u001b[38;5;241;43m.\u001b[39;49m\u001b[43mclick\u001b[49m\u001b[43m(\u001b[49m\u001b[43m)\u001b[49m\u001b[38;5;241;43m.\u001b[39;49m\u001b[43mperform\u001b[49m\u001b[43m(\u001b[49m\u001b[43m)\u001b[49m\n\u001b[0;32m     32\u001b[0m     sleep(\u001b[38;5;241m1\u001b[39m) \u001b[38;5;66;03m# necessary to make sure the value is visible\u001b[39;00m\n\u001b[0;32m     34\u001b[0m \u001b[38;5;28;01mexcept\u001b[39;00m TimeoutException:\n",
      "File \u001b[1;32m~\\Documents\\GitHub\\KINEOscraper\\env\\kineo_env\\Lib\\site-packages\\selenium\\webdriver\\common\\action_chains.py:94\u001b[0m, in \u001b[0;36mActionChains.perform\u001b[1;34m(self)\u001b[0m\n\u001b[0;32m     92\u001b[0m \u001b[38;5;28;01mdef\u001b[39;00m \u001b[38;5;21mperform\u001b[39m(\u001b[38;5;28mself\u001b[39m) \u001b[38;5;241m-\u001b[39m\u001b[38;5;241m>\u001b[39m \u001b[38;5;28;01mNone\u001b[39;00m:\n\u001b[0;32m     93\u001b[0m \u001b[38;5;250m    \u001b[39m\u001b[38;5;124;03m\"\"\"Performs all stored actions.\"\"\"\u001b[39;00m\n\u001b[1;32m---> 94\u001b[0m     \u001b[38;5;28;43mself\u001b[39;49m\u001b[38;5;241;43m.\u001b[39;49m\u001b[43mw3c_actions\u001b[49m\u001b[38;5;241;43m.\u001b[39;49m\u001b[43mperform\u001b[49m\u001b[43m(\u001b[49m\u001b[43m)\u001b[49m\n",
      "File \u001b[1;32m~\\Documents\\GitHub\\KINEOscraper\\env\\kineo_env\\Lib\\site-packages\\selenium\\webdriver\\common\\actions\\action_builder.py:96\u001b[0m, in \u001b[0;36mActionBuilder.perform\u001b[1;34m(self)\u001b[0m\n\u001b[0;32m     94\u001b[0m         enc[\u001b[38;5;124m\"\u001b[39m\u001b[38;5;124mactions\u001b[39m\u001b[38;5;124m\"\u001b[39m]\u001b[38;5;241m.\u001b[39mappend(encoded)\n\u001b[0;32m     95\u001b[0m         device\u001b[38;5;241m.\u001b[39mactions \u001b[38;5;241m=\u001b[39m []\n\u001b[1;32m---> 96\u001b[0m \u001b[38;5;28;43mself\u001b[39;49m\u001b[38;5;241;43m.\u001b[39;49m\u001b[43mdriver\u001b[49m\u001b[38;5;241;43m.\u001b[39;49m\u001b[43mexecute\u001b[49m\u001b[43m(\u001b[49m\u001b[43mCommand\u001b[49m\u001b[38;5;241;43m.\u001b[39;49m\u001b[43mW3C_ACTIONS\u001b[49m\u001b[43m,\u001b[49m\u001b[43m \u001b[49m\u001b[43menc\u001b[49m\u001b[43m)\u001b[49m\n",
      "File \u001b[1;32m~\\Documents\\GitHub\\KINEOscraper\\env\\kineo_env\\Lib\\site-packages\\selenium\\webdriver\\remote\\webdriver.py:354\u001b[0m, in \u001b[0;36mWebDriver.execute\u001b[1;34m(self, driver_command, params)\u001b[0m\n\u001b[0;32m    352\u001b[0m response \u001b[38;5;241m=\u001b[39m \u001b[38;5;28mself\u001b[39m\u001b[38;5;241m.\u001b[39mcommand_executor\u001b[38;5;241m.\u001b[39mexecute(driver_command, params)\n\u001b[0;32m    353\u001b[0m \u001b[38;5;28;01mif\u001b[39;00m response:\n\u001b[1;32m--> 354\u001b[0m     \u001b[38;5;28;43mself\u001b[39;49m\u001b[38;5;241;43m.\u001b[39;49m\u001b[43merror_handler\u001b[49m\u001b[38;5;241;43m.\u001b[39;49m\u001b[43mcheck_response\u001b[49m\u001b[43m(\u001b[49m\u001b[43mresponse\u001b[49m\u001b[43m)\u001b[49m\n\u001b[0;32m    355\u001b[0m     response[\u001b[38;5;124m\"\u001b[39m\u001b[38;5;124mvalue\u001b[39m\u001b[38;5;124m\"\u001b[39m] \u001b[38;5;241m=\u001b[39m \u001b[38;5;28mself\u001b[39m\u001b[38;5;241m.\u001b[39m_unwrap_value(response\u001b[38;5;241m.\u001b[39mget(\u001b[38;5;124m\"\u001b[39m\u001b[38;5;124mvalue\u001b[39m\u001b[38;5;124m\"\u001b[39m, \u001b[38;5;28;01mNone\u001b[39;00m))\n\u001b[0;32m    356\u001b[0m     \u001b[38;5;28;01mreturn\u001b[39;00m response\n",
      "File \u001b[1;32m~\\Documents\\GitHub\\KINEOscraper\\env\\kineo_env\\Lib\\site-packages\\selenium\\webdriver\\remote\\errorhandler.py:229\u001b[0m, in \u001b[0;36mErrorHandler.check_response\u001b[1;34m(self, response)\u001b[0m\n\u001b[0;32m    227\u001b[0m         alert_text \u001b[38;5;241m=\u001b[39m value[\u001b[38;5;124m\"\u001b[39m\u001b[38;5;124malert\u001b[39m\u001b[38;5;124m\"\u001b[39m]\u001b[38;5;241m.\u001b[39mget(\u001b[38;5;124m\"\u001b[39m\u001b[38;5;124mtext\u001b[39m\u001b[38;5;124m\"\u001b[39m)\n\u001b[0;32m    228\u001b[0m     \u001b[38;5;28;01mraise\u001b[39;00m exception_class(message, screen, stacktrace, alert_text)  \u001b[38;5;66;03m# type: ignore[call-arg]  # mypy is not smart enough here\u001b[39;00m\n\u001b[1;32m--> 229\u001b[0m \u001b[38;5;28;01mraise\u001b[39;00m exception_class(message, screen, stacktrace)\n",
      "\u001b[1;31mStaleElementReferenceException\u001b[0m: Message: The element with the reference e69fb39c-b109-45eb-9ff2-3d59a6db733a is stale; either its node document is not the active document, or it is no longer connected to the DOM; For documentation on this error, please visit: https://www.selenium.dev/documentation/webdriver/troubleshooting/errors#stale-element-reference-exception\nStacktrace:\nRemoteError@chrome://remote/content/shared/RemoteError.sys.mjs:8:8\nWebDriverError@chrome://remote/content/shared/webdriver/Errors.sys.mjs:187:5\nStaleElementReferenceError@chrome://remote/content/shared/webdriver/Errors.sys.mjs:659:5\nelement.getKnownElement@chrome://remote/content/marionette/element.sys.mjs:509:11\ndeserializeJSON@chrome://remote/content/marionette/json.sys.mjs:233:33\ncloneObject@chrome://remote/content/marionette/json.sys.mjs:56:24\ndeserializeJSON@chrome://remote/content/marionette/json.sys.mjs:244:16\ncloneObject/result<@chrome://remote/content/marionette/json.sys.mjs:50:52\ncloneObject@chrome://remote/content/marionette/json.sys.mjs:50:25\ndeserializeJSON@chrome://remote/content/marionette/json.sys.mjs:244:16\ncloneObject@chrome://remote/content/marionette/json.sys.mjs:56:24\ndeserializeJSON@chrome://remote/content/marionette/json.sys.mjs:244:16\ncloneObject/result<@chrome://remote/content/marionette/json.sys.mjs:50:52\ncloneObject@chrome://remote/content/marionette/json.sys.mjs:50:25\ndeserializeJSON@chrome://remote/content/marionette/json.sys.mjs:244:16\ncloneObject@chrome://remote/content/marionette/json.sys.mjs:56:24\ndeserializeJSON@chrome://remote/content/marionette/json.sys.mjs:244:16\njson.deserialize@chrome://remote/content/marionette/json.sys.mjs:248:10\nreceiveMessage@chrome://remote/content/marionette/actors/MarionetteCommandsChild.sys.mjs:85:30\n"
     ]
    }
   ],
   "source": [
    "from src.download import download_data\n",
    "from input.values import VALUES\n",
    "\n",
    "for values in VALUES:\n",
    "    print(values)\n",
    "    download_data(driver,\n",
    "                  demarcacion = values[\"demarcacion\"],\n",
    "                  etd = values[\"etd\"],\n",
    "                  option = 'day'\n",
    "                 )"
   ]
  },
  {
   "cell_type": "markdown",
   "id": "42a90637-142c-4a30-b7a3-15ee6c3cd168",
   "metadata": {},
   "source": [
    "Exit driver"
   ]
  },
  {
   "cell_type": "code",
   "execution_count": null,
   "id": "f83074ae-44fe-4f96-a53f-c7c1219c32cd",
   "metadata": {},
   "outputs": [],
   "source": [
    "driver.quit()"
   ]
  },
  {
   "cell_type": "markdown",
   "id": "a13482dc-e528-4781-a992-cf17bba40b71",
   "metadata": {},
   "source": [
    "# 4. Move files to desired directory"
   ]
  },
  {
   "cell_type": "code",
   "execution_count": null,
   "id": "280af984-918f-495f-b578-930bb403331f",
   "metadata": {},
   "outputs": [],
   "source": [
    "from src.directory import move_to_directory\n",
    "from private.config import DOWNLOADS_PATH, L_PATH\n",
    "\n",
    "move_to_directory(origin = DOWNLOADS_PATH,\n",
    "                  destination = L_PATH)"
   ]
  }
 ],
 "metadata": {
  "kernelspec": {
   "display_name": "KINEOscraper env",
   "language": "python",
   "name": "kineo_env"
  },
  "language_info": {
   "codemirror_mode": {
    "name": "ipython",
    "version": 3
   },
   "file_extension": ".py",
   "mimetype": "text/x-python",
   "name": "python",
   "nbconvert_exporter": "python",
   "pygments_lexer": "ipython3",
   "version": "3.11.7"
  }
 },
 "nbformat": 4,
 "nbformat_minor": 5
}
