{
 "cells": [
  {
   "cell_type": "markdown",
   "id": "1d023949-ab25-4aaa-8207-77a84af8b8a5",
   "metadata": {},
   "source": [
    "# 1. Setup Driver"
   ]
  },
  {
   "cell_type": "code",
   "execution_count": 2,
   "id": "08fa7fa6-84cd-4bb7-8bd3-90aa3d4a84ee",
   "metadata": {},
   "outputs": [],
   "source": [
    "import sys\n",
    "sys.path.append(\"../../\")\n",
    "from src.driver import setup_driver\n",
    "driver = setup_driver()"
   ]
  },
  {
   "cell_type": "markdown",
   "id": "29120114-e414-444d-b054-2d1f493370c6",
   "metadata": {},
   "source": [
    "# 2. Access to KINEO - informe por horas "
   ]
  },
  {
   "cell_type": "code",
   "execution_count": 4,
   "id": "cb9838b2-8494-41c9-b41b-4674ea629b39",
   "metadata": {},
   "outputs": [],
   "source": [
    "from src.login import login\n",
    "from private.config import USER_KEY, PASS_KEY\n",
    "\n",
    "# login KINEO\n",
    "login(driver,\n",
    "      url = 'https://aforadores.mitma.es/contadorestraficofomento/Login.aspx',\n",
    "      username = USER_KEY, \n",
    "      password = PASS_KEY)"
   ]
  },
  {
   "cell_type": "code",
   "execution_count": 5,
   "id": "1cb02104-4774-45c0-8db4-2522addd7730",
   "metadata": {},
   "outputs": [],
   "source": [
    "# from src.dropdown import get_all_combinations\n",
    "# driver.get('https://aforadores.mitma.es/contadorestraficofomento/InformePorHorasCalzadaCarrilAforo.aspx')\n",
    "# get_all_combinations(driver, 'ctl00_ContentPlaceHolderDatos_CbDemarcacion_B-1', 'ctl00_ContentPlaceHolderDatos_CbEtd_B-1', '../../input/values.py')"
   ]
  },
  {
   "cell_type": "markdown",
   "id": "4ec1ff40-4191-4d40-90e4-0cac7db9d29f",
   "metadata": {},
   "source": [
    "# 3. Make the requests and download data"
   ]
  },
  {
   "cell_type": "code",
   "execution_count": 7,
   "id": "d4e58203-a321-49ba-a65d-ec74d0b5f25a",
   "metadata": {},
   "outputs": [
    {
     "name": "stdout",
     "output_type": "stream",
     "text": [
      "{'demarcacion': 'TARRAGONA04', 'etd': ['AP7-262+925-100620000000', 'AP7-278+800-100630000000', 'AP7-295+210-100640000000', 'AP7-307+200-100680000000', 'AP7-315+300-100690000000', 'AP7-321+180-100700000000']}\n",
      "AP7-262+925-100620000000\n",
      "he seleccionat la etd\n",
      "he seleccionat data i desglose\n",
      "faig scroll\n",
      "clico ver\n",
      "taula creada\n",
      "baixada feta\n",
      "AP7-278+800-100630000000\n",
      "he seleccionat la etd\n",
      "he seleccionat data i desglose\n",
      "faig scroll\n",
      "clico ver\n",
      "taula creada\n",
      "baixada feta\n",
      "AP7-295+210-100640000000\n",
      "he seleccionat la etd\n",
      "he seleccionat data i desglose\n",
      "faig scroll\n",
      "clico ver\n",
      "taula creada\n",
      "baixada feta\n",
      "AP7-307+200-100680000000\n",
      "he seleccionat la etd\n",
      "he seleccionat data i desglose\n",
      "faig scroll\n",
      "clico ver\n",
      "taula creada\n",
      "baixada feta\n",
      "AP7-315+300-100690000000\n",
      "he seleccionat la etd\n",
      "he seleccionat data i desglose\n",
      "faig scroll\n",
      "clico ver\n",
      "taula creada\n",
      "baixada feta\n",
      "AP7-321+180-100700000000\n",
      "he seleccionat la etd\n",
      "he seleccionat data i desglose\n",
      "faig scroll\n",
      "clico ver\n",
      "taula creada\n",
      "baixada feta\n",
      "{'demarcacion': 'AP2 LERIDA', 'etd': ['AP2-122+700-100050000000', 'AP2-136+900-100060000000', 'AP2-160+200-100070000000', 'AP2-168+700-100080000000']}\n",
      "AP2-122+700-100050000000\n",
      "he seleccionat la etd\n",
      "he seleccionat data i desglose\n",
      "faig scroll\n",
      "clico ver\n",
      "taula creada\n",
      "baixada feta\n",
      "AP2-136+900-100060000000\n",
      "he seleccionat la etd\n",
      "he seleccionat data i desglose\n",
      "faig scroll\n",
      "clico ver\n",
      "taula creada\n",
      "baixada feta\n",
      "AP2-160+200-100070000000\n",
      "he seleccionat la etd\n",
      "he seleccionat data i desglose\n",
      "faig scroll\n",
      "clico ver\n",
      "taula creada\n",
      "baixada feta\n",
      "AP2-168+700-100080000000\n",
      "he seleccionat la etd\n"
     ]
    },
    {
     "ename": "TimeoutException",
     "evalue": "Message: \n",
     "output_type": "error",
     "traceback": [
      "\u001b[1;31m---------------------------------------------------------------------------\u001b[0m",
      "\u001b[1;31mTimeoutException\u001b[0m                          Traceback (most recent call last)",
      "Cell \u001b[1;32mIn[7], line 6\u001b[0m\n\u001b[0;32m      4\u001b[0m \u001b[38;5;28;01mfor\u001b[39;00m values \u001b[38;5;129;01min\u001b[39;00m VALUES:\n\u001b[0;32m      5\u001b[0m     \u001b[38;5;28mprint\u001b[39m(values)\n\u001b[1;32m----> 6\u001b[0m     \u001b[43mdownload_data\u001b[49m\u001b[43m(\u001b[49m\u001b[43mdriver\u001b[49m\u001b[43m,\u001b[49m\n\u001b[0;32m      7\u001b[0m \u001b[43m                  \u001b[49m\u001b[43mdemarcacion\u001b[49m\u001b[43m \u001b[49m\u001b[38;5;241;43m=\u001b[39;49m\u001b[43m \u001b[49m\u001b[43mvalues\u001b[49m\u001b[43m[\u001b[49m\u001b[38;5;124;43m\"\u001b[39;49m\u001b[38;5;124;43mdemarcacion\u001b[39;49m\u001b[38;5;124;43m\"\u001b[39;49m\u001b[43m]\u001b[49m\u001b[43m,\u001b[49m\n\u001b[0;32m      8\u001b[0m \u001b[43m                  \u001b[49m\u001b[43metd\u001b[49m\u001b[43m \u001b[49m\u001b[38;5;241;43m=\u001b[39;49m\u001b[43m \u001b[49m\u001b[43mvalues\u001b[49m\u001b[43m[\u001b[49m\u001b[38;5;124;43m\"\u001b[39;49m\u001b[38;5;124;43metd\u001b[39;49m\u001b[38;5;124;43m\"\u001b[39;49m\u001b[43m]\u001b[49m\u001b[43m,\u001b[49m\n\u001b[0;32m      9\u001b[0m \u001b[43m                  \u001b[49m\u001b[43moption\u001b[49m\u001b[43m \u001b[49m\u001b[38;5;241;43m=\u001b[39;49m\u001b[43m \u001b[49m\u001b[38;5;124;43m'\u001b[39;49m\u001b[38;5;124;43mday\u001b[39;49m\u001b[38;5;124;43m'\u001b[39;49m\n\u001b[0;32m     10\u001b[0m \u001b[43m                 \u001b[49m\u001b[43m)\u001b[49m\n",
      "File \u001b[1;32m~\\Documents\\GitHub\\KINEOscraper\\scripts\\day\\../..\\src\\download.py:50\u001b[0m, in \u001b[0;36mdownload_data\u001b[1;34m(driver, demarcacion, etd, option)\u001b[0m\n\u001b[0;32m     46\u001b[0m \u001b[38;5;66;03m# For every day\u001b[39;00m\n\u001b[0;32m     47\u001b[0m \u001b[38;5;28;01mfor\u001b[39;00m i \u001b[38;5;129;01min\u001b[39;00m \u001b[38;5;28mrange\u001b[39m(\u001b[38;5;28mlen\u001b[39m(days) \u001b[38;5;241m-\u001b[39m \u001b[38;5;241m1\u001b[39m):\n\u001b[0;32m     48\u001b[0m \n\u001b[0;32m     49\u001b[0m     \u001b[38;5;66;03m# Initial/End date selector\u001b[39;00m\n\u001b[1;32m---> 50\u001b[0m     \u001b[43mselect_date\u001b[49m\u001b[43m(\u001b[49m\u001b[43mdriver\u001b[49m\u001b[43m,\u001b[49m\n\u001b[0;32m     51\u001b[0m \u001b[43m                \u001b[49m\u001b[43mdate_picker_id\u001b[49m\u001b[43m \u001b[49m\u001b[38;5;241;43m=\u001b[39;49m\u001b[43m \u001b[49m\u001b[38;5;124;43m'\u001b[39;49m\u001b[38;5;124;43mLbFechaInicio_I\u001b[39;49m\u001b[38;5;124;43m'\u001b[39;49m\u001b[43m,\u001b[49m\n\u001b[0;32m     52\u001b[0m \u001b[43m                \u001b[49m\u001b[43mdate_str\u001b[49m\u001b[43m \u001b[49m\u001b[38;5;241;43m=\u001b[39;49m\u001b[43m \u001b[49m\u001b[38;5;124;43mf\u001b[39;49m\u001b[38;5;124;43m'\u001b[39;49m\u001b[38;5;132;43;01m{\u001b[39;49;00m\u001b[43mdays\u001b[49m\u001b[43m[\u001b[49m\u001b[43mi\u001b[49m\u001b[43m]\u001b[49m\u001b[38;5;132;43;01m}\u001b[39;49;00m\u001b[38;5;124;43m 00:00:00\u001b[39;49m\u001b[38;5;124;43m'\u001b[39;49m\u001b[43m)\u001b[49m\n\u001b[0;32m     54\u001b[0m     select_date(driver,\n\u001b[0;32m     55\u001b[0m                 date_picker_id \u001b[38;5;241m=\u001b[39m \u001b[38;5;124m'\u001b[39m\u001b[38;5;124mLbFechaFin_I\u001b[39m\u001b[38;5;124m'\u001b[39m,\n\u001b[0;32m     56\u001b[0m                 date_str \u001b[38;5;241m=\u001b[39m \u001b[38;5;124mf\u001b[39m\u001b[38;5;124m'\u001b[39m\u001b[38;5;132;01m{\u001b[39;00mdays[i\u001b[38;5;250m \u001b[39m\u001b[38;5;241m+\u001b[39m\u001b[38;5;250m \u001b[39m\u001b[38;5;241m1\u001b[39m]\u001b[38;5;132;01m}\u001b[39;00m\u001b[38;5;124m 00:00:00\u001b[39m\u001b[38;5;124m'\u001b[39m)\n\u001b[0;32m     58\u001b[0m     sleep(\u001b[38;5;241m1\u001b[39m)\n",
      "File \u001b[1;32m~\\Documents\\GitHub\\KINEOscraper\\scripts\\day\\../..\\src\\dates.py:50\u001b[0m, in \u001b[0;36mselect_date\u001b[1;34m(driver, date_picker_id, date_str)\u001b[0m\n\u001b[0;32m     47\u001b[0m date_picker_button\u001b[38;5;241m.\u001b[39mclick()\n\u001b[0;32m     49\u001b[0m \u001b[38;5;66;03m# Wait for the calendar to become visible\u001b[39;00m\n\u001b[1;32m---> 50\u001b[0m \u001b[43mWebDriverWait\u001b[49m\u001b[43m(\u001b[49m\u001b[43mdriver\u001b[49m\u001b[43m,\u001b[49m\u001b[43m \u001b[49m\u001b[38;5;241;43m10\u001b[39;49m\u001b[43m)\u001b[49m\u001b[38;5;241;43m.\u001b[39;49m\u001b[43muntil\u001b[49m\u001b[43m(\u001b[49m\n\u001b[0;32m     51\u001b[0m \u001b[43m    \u001b[49m\u001b[43mEC\u001b[49m\u001b[38;5;241;43m.\u001b[39;49m\u001b[43mvisibility_of_element_located\u001b[49m\u001b[43m(\u001b[49m\u001b[43m(\u001b[49m\u001b[43mBy\u001b[49m\u001b[38;5;241;43m.\u001b[39;49m\u001b[43mID\u001b[49m\u001b[43m,\u001b[49m\u001b[43m \u001b[49m\u001b[43mcalendar_id\u001b[49m\u001b[43m)\u001b[49m\u001b[43m)\u001b[49m\n\u001b[0;32m     52\u001b[0m \u001b[43m\u001b[49m\u001b[43m)\u001b[49m\n\u001b[0;32m     54\u001b[0m \u001b[38;5;66;03m#--- Navigate to the desired month and year\u001b[39;00m\n\u001b[0;32m     55\u001b[0m \u001b[38;5;28;01mwhile\u001b[39;00m \u001b[38;5;28;01mTrue\u001b[39;00m:\n",
      "File \u001b[1;32m~\\Documents\\GitHub\\KINEOscraper\\env\\kineo_env\\Lib\\site-packages\\selenium\\webdriver\\support\\wait.py:105\u001b[0m, in \u001b[0;36mWebDriverWait.until\u001b[1;34m(self, method, message)\u001b[0m\n\u001b[0;32m    103\u001b[0m     \u001b[38;5;28;01mif\u001b[39;00m time\u001b[38;5;241m.\u001b[39mmonotonic() \u001b[38;5;241m>\u001b[39m end_time:\n\u001b[0;32m    104\u001b[0m         \u001b[38;5;28;01mbreak\u001b[39;00m\n\u001b[1;32m--> 105\u001b[0m \u001b[38;5;28;01mraise\u001b[39;00m TimeoutException(message, screen, stacktrace)\n",
      "\u001b[1;31mTimeoutException\u001b[0m: Message: \n"
     ]
    }
   ],
   "source": [
    "from src.download import download_data\n",
    "from input.values import VALUES\n",
    "\n",
    "for values in VALUES:\n",
    "    print(values)\n",
    "    download_data(driver,\n",
    "                  demarcacion = values[\"demarcacion\"],\n",
    "                  etd = values[\"etd\"],\n",
    "                  option = 'day'\n",
    "                 )"
   ]
  },
  {
   "cell_type": "markdown",
   "id": "42a90637-142c-4a30-b7a3-15ee6c3cd168",
   "metadata": {},
   "source": [
    "Exit driver"
   ]
  },
  {
   "cell_type": "code",
   "execution_count": null,
   "id": "f83074ae-44fe-4f96-a53f-c7c1219c32cd",
   "metadata": {},
   "outputs": [],
   "source": [
    "driver.quit()"
   ]
  },
  {
   "cell_type": "markdown",
   "id": "a13482dc-e528-4781-a992-cf17bba40b71",
   "metadata": {},
   "source": [
    "# 4. Move files to desired directory"
   ]
  },
  {
   "cell_type": "code",
   "execution_count": null,
   "id": "280af984-918f-495f-b578-930bb403331f",
   "metadata": {},
   "outputs": [],
   "source": [
    "from src.directory import move_to_directory\n",
    "from private.config import DOWNLOADS_PATH, L_PATH\n",
    "\n",
    "move_to_directory(origin = DOWNLOADS_PATH,\n",
    "                  destination = L_PATH)"
   ]
  }
 ],
 "metadata": {
  "kernelspec": {
   "display_name": "KINEOscraper env",
   "language": "python",
   "name": "kineo_env"
  },
  "language_info": {
   "codemirror_mode": {
    "name": "ipython",
    "version": 3
   },
   "file_extension": ".py",
   "mimetype": "text/x-python",
   "name": "python",
   "nbconvert_exporter": "python",
   "pygments_lexer": "ipython3",
   "version": "3.11.7"
  }
 },
 "nbformat": 4,
 "nbformat_minor": 5
}
