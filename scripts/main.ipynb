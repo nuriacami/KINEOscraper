{
 "cells": [
  {
   "cell_type": "code",
   "execution_count": 24,
   "id": "b85ada27-7f93-4a75-9cdf-ad2e2becaa5f",
   "metadata": {},
   "outputs": [],
   "source": [
    "def get_months_between(start_date, end_date):\n",
    "    # Convertim les dates passades com a strings a objectes datetime\n",
    "    start = datetime.strptime(start_date, '%d/%m/%Y')\n",
    "    end = datetime.strptime(end_date, '%d/%m/%Y')\n",
    "\n",
    "    # Ens assegurem que la data d'inici sigui anterior o igual a la data final\n",
    "    if start > end:\n",
    "        start, end = end, start\n",
    "\n",
    "    # Incrementem un mes la data final\n",
    "    end_month = (end.month % 12) + 1\n",
    "    end_year = end.year + (end.month // 12)\n",
    "    end = datetime(end_year, end_month, 1)\n",
    "\n",
    "    # Generem la llista de mesos\n",
    "    months = []\n",
    "    current = start.replace(day=1)\n",
    "    while current <= end:\n",
    "        months.append(current.strftime('%d/%m/%Y 00:00:00'))\n",
    "        # Incrementem al mes següent\n",
    "        next_month = (current.month % 12) + 1\n",
    "        next_year = current.year + (current.month // 12)\n",
    "        current = current.replace(year=next_year, month=next_month)\n",
    "\n",
    "    return months"
   ]
  },
  {
   "cell_type": "code",
   "execution_count": 26,
   "id": "e08a04fa-5190-4adf-9c92-9cfe557c0400",
   "metadata": {},
   "outputs": [
    {
     "data": {
      "text/plain": [
       "['01/01/2024 00:00:00',\n",
       " '01/02/2024 00:00:00',\n",
       " '01/03/2024 00:00:00',\n",
       " '01/04/2024 00:00:00']"
      ]
     },
     "execution_count": 26,
     "metadata": {},
     "output_type": "execute_result"
    }
   ],
   "source": [
    "get_months_between('01/01/2024', '01/03/2024')"
   ]
  },
  {
   "cell_type": "markdown",
   "id": "1d023949-ab25-4aaa-8207-77a84af8b8a5",
   "metadata": {},
   "source": [
    "# 1. Setup Driver"
   ]
  },
  {
   "cell_type": "code",
   "execution_count": 2,
   "id": "08fa7fa6-84cd-4bb7-8bd3-90aa3d4a84ee",
   "metadata": {},
   "outputs": [],
   "source": [
    "import sys\n",
    "sys.path.append(\"../\")\n",
    "from src.driver import setup_driver\n",
    "driver = setup_driver()"
   ]
  },
  {
   "cell_type": "markdown",
   "id": "29120114-e414-444d-b054-2d1f493370c6",
   "metadata": {},
   "source": [
    "# 2. Access to KINEO"
   ]
  },
  {
   "cell_type": "code",
   "execution_count": 4,
   "id": "cb9838b2-8494-41c9-b41b-4674ea629b39",
   "metadata": {},
   "outputs": [],
   "source": [
    "from src.login import login\n",
    "from private.config import USER_KEY, PASS_KEY\n",
    "\n",
    "# login KINEO\n",
    "login(driver,\n",
    "      url = 'https://aforadores.mitma.es/contadorestraficofomento/Login.aspx',\n",
    "      username = USER_KEY, \n",
    "      password = PASS_KEY)"
   ]
  },
  {
   "cell_type": "code",
   "execution_count": 5,
   "id": "da5a08b8-b5f6-477c-9b66-aa5202fac193",
   "metadata": {},
   "outputs": [],
   "source": [
    "# from src.dropdown import get_all_combinations\n",
    "# driver.get('https://aforadores.mitma.es/contadorestraficofomento/InformeVolumenTraficoAgrupadoAforo.aspx')\n",
    "# get_all_combinations(driver, 'ctl00_ContentPlaceHolderDatos_CbDemarcacion_B-1', 'ctl00_ContentPlaceHolderDatos_CbEtd_B-1', '../../input/values.py')"
   ]
  },
  {
   "cell_type": "markdown",
   "id": "4ec1ff40-4191-4d40-90e4-0cac7db9d29f",
   "metadata": {},
   "source": [
    "# 3. Make the requests and download data"
   ]
  },
  {
   "cell_type": "code",
   "execution_count": 7,
   "id": "e32ba87d-f75d-4576-b8dc-d275cc46cf2b",
   "metadata": {},
   "outputs": [],
   "source": [
    "from src.download import download_data\n",
    "from input.values import VALUES_gerard\n",
    "\n",
    "'''\n",
    "# Por minutos \n",
    "choice = 'por_minutos'\n",
    "desglose = 1, 5, 10 o 15 (minuts)\n",
    "clock = 'hour' (es baixa un Excel per a cada hora), 'day' (es baixa un Excel per a cada dia), 'month' (es baixa un Excel per a cada mes), '2_months' (es baixa un Excel per a cada 2 mesos) o None (es baixa un Excel per a l'interval indicat)\n",
    "\n",
    "# Por horas\n",
    "choice = 'por_horas'\n",
    "desglose = None\n",
    "clock = None (es baixa un Excel per a l'interval indicat) \n",
    "'''\n",
    "\n",
    "for values in VALUES_gerard:\n",
    "    download_data(driver,\n",
    "                  demarcacion = values[\"demarcacion\"],\n",
    "                  etd = values[\"etd\"],\n",
    "                  fecha_inicio = '01/06/2022',\n",
    "                  fecha_fin = '01/06/2024',\n",
    "                  choice = 'por_minutos', \n",
    "                  desglose = 1, \n",
    "                  clock = '2_months'\n",
    "                 )"
   ]
  },
  {
   "cell_type": "markdown",
   "id": "42a90637-142c-4a30-b7a3-15ee6c3cd168",
   "metadata": {},
   "source": [
    "Exit driver"
   ]
  },
  {
   "cell_type": "code",
   "execution_count": 9,
   "id": "f83074ae-44fe-4f96-a53f-c7c1219c32cd",
   "metadata": {},
   "outputs": [],
   "source": [
    "driver.quit()"
   ]
  },
  {
   "cell_type": "markdown",
   "id": "a13482dc-e528-4781-a992-cf17bba40b71",
   "metadata": {},
   "source": [
    "# 4. Move files to desired directory"
   ]
  },
  {
   "cell_type": "code",
   "execution_count": 11,
   "id": "280af984-918f-495f-b578-930bb403331f",
   "metadata": {},
   "outputs": [],
   "source": [
    "from src.directory import move_to_directory\n",
    "from private.config import DOWNLOADS_PATH, L_PATH, G_PATH\n",
    "\n",
    "move_to_directory(origin = DOWNLOADS_PATH,\n",
    "                  destination = G_PATH)"
   ]
  }
 ],
 "metadata": {
  "kernelspec": {
   "display_name": "KINEOscraper env",
   "language": "python",
   "name": "kineo_env"
  },
  "language_info": {
   "codemirror_mode": {
    "name": "ipython",
    "version": 3
   },
   "file_extension": ".py",
   "mimetype": "text/x-python",
   "name": "python",
   "nbconvert_exporter": "python",
   "pygments_lexer": "ipython3",
   "version": "3.11.7"
  }
 },
 "nbformat": 4,
 "nbformat_minor": 5
}
