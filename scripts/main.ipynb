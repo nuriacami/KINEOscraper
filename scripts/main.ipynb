{
 "cells": [
  {
   "cell_type": "markdown",
   "id": "1d023949-ab25-4aaa-8207-77a84af8b8a5",
   "metadata": {},
   "source": [
    "# 1. Setup Driver"
   ]
  },
  {
   "cell_type": "code",
   "execution_count": 2,
   "id": "08fa7fa6-84cd-4bb7-8bd3-90aa3d4a84ee",
   "metadata": {},
   "outputs": [],
   "source": [
    "import sys\n",
    "sys.path.append(\"../\")\n",
    "from src.driver import setup_driver\n",
    "driver = setup_driver()"
   ]
  },
  {
   "cell_type": "markdown",
   "id": "29120114-e414-444d-b054-2d1f493370c6",
   "metadata": {},
   "source": [
    "# 2. Access to KINEO"
   ]
  },
  {
   "cell_type": "code",
   "execution_count": 4,
   "id": "cb9838b2-8494-41c9-b41b-4674ea629b39",
   "metadata": {},
   "outputs": [],
   "source": [
    "from src.login import login\n",
    "from private.config import USER_KEY, PASS_KEY\n",
    "\n",
    "# login KINEO\n",
    "login(driver,\n",
    "      url = 'https://aforadores.mitma.es/contadorestraficofomento/Login.aspx',\n",
    "      username = USER_KEY, \n",
    "      password = PASS_KEY)"
   ]
  },
  {
   "cell_type": "code",
   "execution_count": 5,
   "id": "da5a08b8-b5f6-477c-9b66-aa5202fac193",
   "metadata": {},
   "outputs": [],
   "source": [
    "# from src.dropdown import get_all_combinations\n",
    "# driver.get('https://aforadores.mitma.es/contadorestraficofomento/InformeVolumenTraficoAgrupadoAforo.aspx')\n",
    "# get_all_combinations(driver, 'ctl00_ContentPlaceHolderDatos_CbDemarcacion_B-1', 'ctl00_ContentPlaceHolderDatos_CbEtd_B-1', '../../input/values.py')"
   ]
  },
  {
   "cell_type": "markdown",
   "id": "4ec1ff40-4191-4d40-90e4-0cac7db9d29f",
   "metadata": {},
   "source": [
    "# 3. Make the requests and download data"
   ]
  },
  {
   "cell_type": "code",
   "execution_count": 7,
   "id": "e32ba87d-f75d-4576-b8dc-d275cc46cf2b",
   "metadata": {},
   "outputs": [
    {
     "ename": "ValueError",
     "evalue": "Could not find a valid value for the calendar title.",
     "output_type": "error",
     "traceback": [
      "\u001b[1;31m---------------------------------------------------------------------------\u001b[0m",
      "\u001b[1;31mValueError\u001b[0m                                Traceback (most recent call last)",
      "Cell \u001b[1;32mIn[7], line 17\u001b[0m\n\u001b[0;32m      4\u001b[0m \u001b[38;5;124;03m'''\u001b[39;00m\n\u001b[0;32m      5\u001b[0m \u001b[38;5;124;03m# Por minutos \u001b[39;00m\n\u001b[0;32m      6\u001b[0m \u001b[38;5;124;03mchoice = 'por_minutos'\u001b[39;00m\n\u001b[1;32m   (...)\u001b[0m\n\u001b[0;32m     13\u001b[0m \u001b[38;5;124;03mclock = None (es baixa un Excel per a l'interval indicat) \u001b[39;00m\n\u001b[0;32m     14\u001b[0m \u001b[38;5;124;03m'''\u001b[39;00m\n\u001b[0;32m     16\u001b[0m \u001b[38;5;28;01mfor\u001b[39;00m values \u001b[38;5;129;01min\u001b[39;00m VALUES_gerard:\n\u001b[1;32m---> 17\u001b[0m     \u001b[43mdownload_data\u001b[49m\u001b[43m(\u001b[49m\u001b[43mdriver\u001b[49m\u001b[43m,\u001b[49m\n\u001b[0;32m     18\u001b[0m \u001b[43m                  \u001b[49m\u001b[43mdemarcacion\u001b[49m\u001b[43m \u001b[49m\u001b[38;5;241;43m=\u001b[39;49m\u001b[43m \u001b[49m\u001b[43mvalues\u001b[49m\u001b[43m[\u001b[49m\u001b[38;5;124;43m\"\u001b[39;49m\u001b[38;5;124;43mdemarcacion\u001b[39;49m\u001b[38;5;124;43m\"\u001b[39;49m\u001b[43m]\u001b[49m\u001b[43m,\u001b[49m\n\u001b[0;32m     19\u001b[0m \u001b[43m                  \u001b[49m\u001b[43metd\u001b[49m\u001b[43m \u001b[49m\u001b[38;5;241;43m=\u001b[39;49m\u001b[43m \u001b[49m\u001b[43mvalues\u001b[49m\u001b[43m[\u001b[49m\u001b[38;5;124;43m\"\u001b[39;49m\u001b[38;5;124;43metd\u001b[39;49m\u001b[38;5;124;43m\"\u001b[39;49m\u001b[43m]\u001b[49m\u001b[43m,\u001b[49m\n\u001b[0;32m     20\u001b[0m \u001b[43m                  \u001b[49m\u001b[43mfecha_inicio\u001b[49m\u001b[43m \u001b[49m\u001b[38;5;241;43m=\u001b[39;49m\u001b[43m \u001b[49m\u001b[38;5;124;43m'\u001b[39;49m\u001b[38;5;124;43m01/06/2022\u001b[39;49m\u001b[38;5;124;43m'\u001b[39;49m\u001b[43m,\u001b[49m\n\u001b[0;32m     21\u001b[0m \u001b[43m                  \u001b[49m\u001b[43mfecha_fin\u001b[49m\u001b[43m \u001b[49m\u001b[38;5;241;43m=\u001b[39;49m\u001b[43m \u001b[49m\u001b[38;5;124;43m'\u001b[39;49m\u001b[38;5;124;43m01/06/2024\u001b[39;49m\u001b[38;5;124;43m'\u001b[39;49m\u001b[43m,\u001b[49m\n\u001b[0;32m     22\u001b[0m \u001b[43m                  \u001b[49m\u001b[43mchoice\u001b[49m\u001b[43m \u001b[49m\u001b[38;5;241;43m=\u001b[39;49m\u001b[43m \u001b[49m\u001b[38;5;124;43m'\u001b[39;49m\u001b[38;5;124;43mpor_minutos\u001b[39;49m\u001b[38;5;124;43m'\u001b[39;49m\u001b[43m,\u001b[49m\u001b[43m \u001b[49m\n\u001b[0;32m     23\u001b[0m \u001b[43m                  \u001b[49m\u001b[43mdesglose\u001b[49m\u001b[43m \u001b[49m\u001b[38;5;241;43m=\u001b[39;49m\u001b[43m \u001b[49m\u001b[38;5;241;43m1\u001b[39;49m\u001b[43m,\u001b[49m\u001b[43m \u001b[49m\n\u001b[0;32m     24\u001b[0m \u001b[43m                  \u001b[49m\u001b[43mclock\u001b[49m\u001b[43m \u001b[49m\u001b[38;5;241;43m=\u001b[39;49m\u001b[43m \u001b[49m\u001b[38;5;124;43m'\u001b[39;49m\u001b[38;5;124;43m2_months\u001b[39;49m\u001b[38;5;124;43m'\u001b[39;49m\n\u001b[0;32m     25\u001b[0m \u001b[43m                 \u001b[49m\u001b[43m)\u001b[49m\n",
      "File \u001b[1;32m~\\Documents\\GitHub\\KINEOscraper\\scripts\\..\\src\\download.py:150\u001b[0m, in \u001b[0;36mdownload_data\u001b[1;34m(driver, demarcacion, etd, fecha_inicio, fecha_fin, choice, desglose, clock)\u001b[0m\n\u001b[0;32m    148\u001b[0m             \u001b[38;5;28mprint\u001b[39m(\u001b[38;5;124mf\u001b[39m\u001b[38;5;124m\"\u001b[39m\u001b[38;5;124mIntent fallit a la ETD: \u001b[39m\u001b[38;5;132;01m{\u001b[39;00mvalue_to_select_etd\u001b[38;5;132;01m}\u001b[39;00m\u001b[38;5;124m, fecha_inicio: \u001b[39m\u001b[38;5;132;01m{\u001b[39;00mdates[i]\u001b[38;5;132;01m}\u001b[39;00m\u001b[38;5;124m, fecha_fin: \u001b[39m\u001b[38;5;132;01m{\u001b[39;00mdates[i\u001b[38;5;250m \u001b[39m\u001b[38;5;241m+\u001b[39m\u001b[38;5;250m \u001b[39m\u001b[38;5;241m1\u001b[39m]\u001b[38;5;132;01m}\u001b[39;00m\u001b[38;5;124m\"\u001b[39m)\n\u001b[0;32m    149\u001b[0m         \u001b[38;5;28;01melse\u001b[39;00m:\n\u001b[1;32m--> 150\u001b[0m             \u001b[38;5;28;01mraise\u001b[39;00m e  \u001b[38;5;66;03m# Rethrow the exception if it's not related to the blocked page or expired session\u001b[39;00m\n\u001b[0;32m    151\u001b[0m             \u001b[38;5;28mprint\u001b[39m(\u001b[38;5;124m\"\u001b[39m\u001b[38;5;124mHi ha hagut algun altre tipus d\u001b[39m\u001b[38;5;124m'\u001b[39m\u001b[38;5;124merror.\u001b[39m\u001b[38;5;124m\"\u001b[39m)\n\u001b[0;32m    153\u001b[0m \u001b[38;5;28;01mif\u001b[39;00m retry_count \u001b[38;5;241m==\u001b[39m max_retries:\n",
      "File \u001b[1;32m~\\Documents\\GitHub\\KINEOscraper\\scripts\\..\\src\\download.py:77\u001b[0m, in \u001b[0;36mdownload_data\u001b[1;34m(driver, demarcacion, etd, fecha_inicio, fecha_fin, choice, desglose, clock)\u001b[0m\n\u001b[0;32m     70\u001b[0m \u001b[38;5;28;01mtry\u001b[39;00m:\n\u001b[0;32m     71\u001b[0m     \u001b[38;5;66;03m# Initial/End date selector\u001b[39;00m\n\u001b[0;32m     72\u001b[0m     select_date(driver,\n\u001b[0;32m     73\u001b[0m                 date_picker_id\u001b[38;5;241m=\u001b[39m\u001b[38;5;124m'\u001b[39m\u001b[38;5;124mLbFechaInicio_I\u001b[39m\u001b[38;5;124m'\u001b[39m,\n\u001b[0;32m     74\u001b[0m                 date_str\u001b[38;5;241m=\u001b[39mdates[i],\n\u001b[0;32m     75\u001b[0m                 choice\u001b[38;5;241m=\u001b[39mchoice)\n\u001b[1;32m---> 77\u001b[0m     \u001b[43mselect_date\u001b[49m\u001b[43m(\u001b[49m\u001b[43mdriver\u001b[49m\u001b[43m,\u001b[49m\n\u001b[0;32m     78\u001b[0m \u001b[43m                \u001b[49m\u001b[43mdate_picker_id\u001b[49m\u001b[38;5;241;43m=\u001b[39;49m\u001b[38;5;124;43m'\u001b[39;49m\u001b[38;5;124;43mLbFechaFin_I\u001b[39;49m\u001b[38;5;124;43m'\u001b[39;49m\u001b[43m,\u001b[49m\n\u001b[0;32m     79\u001b[0m \u001b[43m                \u001b[49m\u001b[43mdate_str\u001b[49m\u001b[38;5;241;43m=\u001b[39;49m\u001b[43mdates\u001b[49m\u001b[43m[\u001b[49m\u001b[43mi\u001b[49m\u001b[43m \u001b[49m\u001b[38;5;241;43m+\u001b[39;49m\u001b[43m \u001b[49m\u001b[38;5;241;43m1\u001b[39;49m\u001b[43m]\u001b[49m\u001b[43m,\u001b[49m\n\u001b[0;32m     80\u001b[0m \u001b[43m                \u001b[49m\u001b[43mchoice\u001b[49m\u001b[38;5;241;43m=\u001b[39;49m\u001b[43mchoice\u001b[49m\u001b[43m)\u001b[49m\n\u001b[0;32m     82\u001b[0m     sleep(\u001b[38;5;241m1\u001b[39m)\n\u001b[0;32m     84\u001b[0m     \u001b[38;5;28;01mif\u001b[39;00m choice \u001b[38;5;241m==\u001b[39m \u001b[38;5;124m'\u001b[39m\u001b[38;5;124mpor_minutos\u001b[39m\u001b[38;5;124m'\u001b[39m:\n\u001b[0;32m     85\u001b[0m         \u001b[38;5;66;03m# Select 'Desglose' \u001b[39;00m\n",
      "File \u001b[1;32m~\\Documents\\GitHub\\KINEOscraper\\scripts\\..\\src\\dates.py:148\u001b[0m, in \u001b[0;36mselect_date\u001b[1;34m(driver, date_picker_id, date_str, choice)\u001b[0m\n\u001b[0;32m    146\u001b[0m         displayed_month_year \u001b[38;5;241m=\u001b[39m last_valid_month_year\n\u001b[0;32m    147\u001b[0m     \u001b[38;5;28;01melse\u001b[39;00m:\n\u001b[1;32m--> 148\u001b[0m         \u001b[38;5;28;01mraise\u001b[39;00m \u001b[38;5;167;01mValueError\u001b[39;00m(\u001b[38;5;124m\"\u001b[39m\u001b[38;5;124mCould not find a valid value for the calendar title.\u001b[39m\u001b[38;5;124m\"\u001b[39m)\n\u001b[0;32m    150\u001b[0m \u001b[38;5;66;03m# Now that we have a valid text, proceed with the split\u001b[39;00m\n\u001b[0;32m    151\u001b[0m displayed_month, displayed_year \u001b[38;5;241m=\u001b[39m displayed_month_year\u001b[38;5;241m.\u001b[39msplit(\u001b[38;5;124m'\u001b[39m\u001b[38;5;124m de \u001b[39m\u001b[38;5;124m'\u001b[39m)\n",
      "\u001b[1;31mValueError\u001b[0m: Could not find a valid value for the calendar title."
     ]
    }
   ],
   "source": [
    "from src.download import download_data\n",
    "from input.values import VALUES_gerard\n",
    "\n",
    "'''\n",
    "# Por minutos \n",
    "choice = 'por_minutos'\n",
    "desglose = 1, 5, 10 o 15 (minuts)\n",
    "clock = 'hour' (es baixa un Excel per a cada hora), 'day' (es baixa un Excel per a cada dia), 'month' (es baixa un Excel per a cada mes), '2_months' (es baixa un Excel per a cada 2 mesos) o None (es baixa un Excel per a l'interval [fecha_inicio, fecha_fin] indicat)\n",
    "\n",
    "# Por horas\n",
    "choice = 'por_horas'\n",
    "desglose = None\n",
    "clock = None (es baixa un Excel per a l'interval indicat) \n",
    "'''\n",
    "\n",
    "for values in VALUES_gerard:\n",
    "    download_data(driver,\n",
    "                  demarcacion = values[\"demarcacion\"],\n",
    "                  etd = values[\"etd\"],\n",
    "                  fecha_inicio = '01/06/2022',\n",
    "                  fecha_fin = '01/06/2024',\n",
    "                  choice = 'por_minutos', \n",
    "                  desglose = 1, \n",
    "                  clock = '2_months'\n",
    "                 )"
   ]
  },
  {
   "cell_type": "markdown",
   "id": "42a90637-142c-4a30-b7a3-15ee6c3cd168",
   "metadata": {},
   "source": [
    "Exit driver"
   ]
  },
  {
   "cell_type": "code",
   "execution_count": null,
   "id": "f83074ae-44fe-4f96-a53f-c7c1219c32cd",
   "metadata": {},
   "outputs": [],
   "source": [
    "driver.quit()"
   ]
  },
  {
   "cell_type": "markdown",
   "id": "a13482dc-e528-4781-a992-cf17bba40b71",
   "metadata": {},
   "source": [
    "# 4. Move files to desired directory"
   ]
  },
  {
   "cell_type": "code",
   "execution_count": null,
   "id": "280af984-918f-495f-b578-930bb403331f",
   "metadata": {},
   "outputs": [],
   "source": [
    "from src.directory import move_to_directory\n",
    "from private.config import DOWNLOADS_PATH, L_PATH, G_PATH\n",
    "\n",
    "move_to_directory(origin = DOWNLOADS_PATH,\n",
    "                  destination = G_PATH)"
   ]
  }
 ],
 "metadata": {
  "kernelspec": {
   "display_name": "KINEOscraper env",
   "language": "python",
   "name": "kineo_env"
  },
  "language_info": {
   "codemirror_mode": {
    "name": "ipython",
    "version": 3
   },
   "file_extension": ".py",
   "mimetype": "text/x-python",
   "name": "python",
   "nbconvert_exporter": "python",
   "pygments_lexer": "ipython3",
   "version": "3.11.7"
  }
 },
 "nbformat": 4,
 "nbformat_minor": 5
}
