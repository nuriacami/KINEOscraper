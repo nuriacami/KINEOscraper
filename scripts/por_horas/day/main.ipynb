{
 "cells": [
  {
   "cell_type": "markdown",
   "id": "1d023949-ab25-4aaa-8207-77a84af8b8a5",
   "metadata": {},
   "source": [
    "# 1. Setup Driver"
   ]
  },
  {
   "cell_type": "code",
   "execution_count": 2,
   "id": "08fa7fa6-84cd-4bb7-8bd3-90aa3d4a84ee",
   "metadata": {},
   "outputs": [],
   "source": [
    "import sys\n",
    "sys.path.append(\"../../\")\n",
    "from src.driver import setup_driver\n",
    "driver = setup_driver()"
   ]
  },
  {
   "cell_type": "markdown",
   "id": "29120114-e414-444d-b054-2d1f493370c6",
   "metadata": {},
   "source": [
    "# 2. Access to KINEO"
   ]
  },
  {
   "cell_type": "code",
   "execution_count": 4,
   "id": "cb9838b2-8494-41c9-b41b-4674ea629b39",
   "metadata": {},
   "outputs": [],
   "source": [
    "from src.login import login\n",
    "from private.config import USER_KEY, PASS_KEY\n",
    "\n",
    "# login KINEO\n",
    "login(driver,\n",
    "      url = 'https://aforadores.mitma.es/contadorestraficofomento/Login.aspx',\n",
    "      username = USER_KEY, \n",
    "      password = PASS_KEY)"
   ]
  },
  {
   "cell_type": "code",
   "execution_count": 5,
   "id": "1cb02104-4774-45c0-8db4-2522addd7730",
   "metadata": {},
   "outputs": [],
   "source": [
    "# from src.dropdown import get_all_combinations\n",
    "# driver.get('https://aforadores.mitma.es/contadorestraficofomento/InformePorHorasCalzadaCarrilAforo.aspx')\n",
    "# get_all_combinations(driver, 'ctl00_ContentPlaceHolderDatos_CbDemarcacion_B-1', 'ctl00_ContentPlaceHolderDatos_CbEtd_B-1', '../../input/values.py')"
   ]
  },
  {
   "cell_type": "markdown",
   "id": "4ec1ff40-4191-4d40-90e4-0cac7db9d29f",
   "metadata": {},
   "source": [
    "# 3. Make the requests and download data"
   ]
  },
  {
   "cell_type": "code",
   "execution_count": null,
   "id": "cc1fc604-93c5-4d4e-8f9b-48c353073299",
   "metadata": {},
   "outputs": [],
   "source": [
    "from src.download import download_data\n",
    "from input.values import VALUES\n",
    "\n",
    "for values in VALUES:\n",
    "    download_data(driver,\n",
    "                  demarcacion = values[\"demarcacion\"],\n",
    "                  etd = values[\"etd\"],\n",
    "                  option = 'day'\n",
    "                 )\n",
    "\n",
    "# calculo que en total triga uns 40min"
   ]
  },
  {
   "cell_type": "markdown",
   "id": "42a90637-142c-4a30-b7a3-15ee6c3cd168",
   "metadata": {},
   "source": [
    "Exit driver"
   ]
  },
  {
   "cell_type": "code",
   "execution_count": null,
   "id": "f83074ae-44fe-4f96-a53f-c7c1219c32cd",
   "metadata": {},
   "outputs": [],
   "source": [
    "driver.quit()"
   ]
  },
  {
   "cell_type": "markdown",
   "id": "a13482dc-e528-4781-a992-cf17bba40b71",
   "metadata": {},
   "source": [
    "# 4. Move files to desired directory"
   ]
  },
  {
   "cell_type": "code",
   "execution_count": null,
   "id": "280af984-918f-495f-b578-930bb403331f",
   "metadata": {},
   "outputs": [],
   "source": [
    "from src.directory import move_to_directory\n",
    "from private.config import DOWNLOADS_PATH, L_PATH\n",
    "\n",
    "move_to_directory(origin = DOWNLOADS_PATH,\n",
    "                  destination = L_PATH)"
   ]
  }
 ],
 "metadata": {
  "kernelspec": {
   "display_name": "KINEOscraper env",
   "language": "python",
   "name": "kineo_env"
  },
  "language_info": {
   "codemirror_mode": {
    "name": "ipython",
    "version": 3
   },
   "file_extension": ".py",
   "mimetype": "text/x-python",
   "name": "python",
   "nbconvert_exporter": "python",
   "pygments_lexer": "ipython3",
   "version": "3.11.7"
  }
 },
 "nbformat": 4,
 "nbformat_minor": 5
}
