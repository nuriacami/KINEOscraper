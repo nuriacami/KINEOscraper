{
 "cells": [
  {
   "cell_type": "markdown",
   "id": "cf4f0e67",
   "metadata": {},
   "source": [
    "# FREE"
   ]
  },
  {
   "cell_type": "markdown",
   "id": "1d023949-ab25-4aaa-8207-77a84af8b8a5",
   "metadata": {},
   "source": [
    "# 1. Setup Driver"
   ]
  },
  {
   "cell_type": "code",
   "execution_count": 1,
   "id": "08fa7fa6-84cd-4bb7-8bd3-90aa3d4a84ee",
   "metadata": {},
   "outputs": [],
   "source": [
    "import sys\n",
    "sys.path.append(\"../../../\")\n",
    "from src.driver import setup_driver\n",
    "driver = setup_driver()"
   ]
  },
  {
   "cell_type": "markdown",
   "id": "29120114-e414-444d-b054-2d1f493370c6",
   "metadata": {},
   "source": [
    "# 2. Access to KINEO"
   ]
  },
  {
   "cell_type": "code",
   "execution_count": 2,
   "id": "cb9838b2-8494-41c9-b41b-4674ea629b39",
   "metadata": {},
   "outputs": [],
   "source": [
    "from src.login import login\n",
    "from private.config import USER_KEY, PASS_KEY\n",
    "\n",
    "# login KINEO\n",
    "login(driver,\n",
    "      url = 'https://aforadores.mitma.es/contadorestraficofomento/Login.aspx',\n",
    "      username = USER_KEY, \n",
    "      password = PASS_KEY)"
   ]
  },
  {
   "cell_type": "markdown",
   "id": "4ec1ff40-4191-4d40-90e4-0cac7db9d29f",
   "metadata": {},
   "source": [
    "# 3. Make the requests, download data and move files to desired directory"
   ]
  },
  {
   "cell_type": "code",
   "execution_count": 3,
   "id": "c63c2ff9",
   "metadata": {
    "scrolled": true
   },
   "outputs": [
    {
     "ename": "NoSuchElementException",
     "evalue": "Message: Unable to locate element: [id=\"LbFechaInicio_B-1\"]; For documentation on this error, please visit: https://www.selenium.dev/documentation/webdriver/troubleshooting/errors#no-such-element-exception\nStacktrace:\nRemoteError@chrome://remote/content/shared/RemoteError.sys.mjs:8:8\nWebDriverError@chrome://remote/content/shared/webdriver/Errors.sys.mjs:193:5\nNoSuchElementError@chrome://remote/content/shared/webdriver/Errors.sys.mjs:511:5\ndom.find/</<@chrome://remote/content/shared/DOM.sys.mjs:136:16\n",
     "output_type": "error",
     "traceback": [
      "\u001b[1;31m---------------------------------------------------------------------------\u001b[0m",
      "\u001b[1;31mNoSuchElementException\u001b[0m                    Traceback (most recent call last)",
      "Cell \u001b[1;32mIn[3], line 7\u001b[0m\n\u001b[0;32m      4\u001b[0m \u001b[38;5;28;01mfrom\u001b[39;00m \u001b[38;5;21;01mprivate\u001b[39;00m\u001b[38;5;21;01m.\u001b[39;00m\u001b[38;5;21;01mconfig\u001b[39;00m \u001b[38;5;28;01mimport\u001b[39;00m DOWNLOADS_PATH, L_PATH\n\u001b[0;32m      6\u001b[0m \u001b[38;5;28;01mfor\u001b[39;00m values \u001b[38;5;129;01min\u001b[39;00m VALUES:\n\u001b[1;32m----> 7\u001b[0m     \u001b[43mdownload_data\u001b[49m\u001b[43m(\u001b[49m\u001b[43mdriver\u001b[49m\u001b[43m,\u001b[49m\n\u001b[0;32m      8\u001b[0m \u001b[43m                  \u001b[49m\u001b[43mdemarcacion\u001b[49m\u001b[43m \u001b[49m\u001b[38;5;241;43m=\u001b[39;49m\u001b[43m \u001b[49m\u001b[43mvalues\u001b[49m\u001b[43m[\u001b[49m\u001b[38;5;124;43m\"\u001b[39;49m\u001b[38;5;124;43mdemarcacion\u001b[39;49m\u001b[38;5;124;43m\"\u001b[39;49m\u001b[43m]\u001b[49m\u001b[43m,\u001b[49m\n\u001b[0;32m      9\u001b[0m \u001b[43m                  \u001b[49m\u001b[43metd\u001b[49m\u001b[43m \u001b[49m\u001b[38;5;241;43m=\u001b[39;49m\u001b[43m \u001b[49m\u001b[43mvalues\u001b[49m\u001b[43m[\u001b[49m\u001b[38;5;124;43m\"\u001b[39;49m\u001b[38;5;124;43metd\u001b[39;49m\u001b[38;5;124;43m\"\u001b[39;49m\u001b[43m]\u001b[49m\u001b[43m,\u001b[49m\n\u001b[0;32m     10\u001b[0m \u001b[43m                  \u001b[49m\u001b[43moption\u001b[49m\u001b[43m \u001b[49m\u001b[38;5;241;43m=\u001b[39;49m\u001b[43m \u001b[49m\u001b[38;5;124;43m'\u001b[39;49m\u001b[38;5;124;43mfree\u001b[39;49m\u001b[38;5;124;43m'\u001b[39;49m\n\u001b[0;32m     11\u001b[0m \u001b[43m                 \u001b[49m\u001b[43m)\u001b[49m\n\u001b[0;32m     12\u001b[0m     move_to_directory(origin \u001b[38;5;241m=\u001b[39m DOWNLOADS_PATH,\n\u001b[0;32m     13\u001b[0m                       destination \u001b[38;5;241m=\u001b[39m L_PATH)\n",
      "File \u001b[1;32m~\\Documents\\GitHub\\KINEOscraper\\scripts\\por_horas\\z_free\\../../..\\src\\download.py:138\u001b[0m, in \u001b[0;36mdownload_data\u001b[1;34m(driver, demarcacion, etd, option)\u001b[0m\n\u001b[0;32m    136\u001b[0m             retry_count \u001b[38;5;241m+\u001b[39m\u001b[38;5;241m=\u001b[39m \u001b[38;5;241m1\u001b[39m  \u001b[38;5;66;03m# Increment the retry counter\u001b[39;00m\n\u001b[0;32m    137\u001b[0m         \u001b[38;5;28;01melse\u001b[39;00m:\n\u001b[1;32m--> 138\u001b[0m             \u001b[38;5;28;01mraise\u001b[39;00m e  \u001b[38;5;66;03m# Rethrow the exception if it's not related to the blocked page\u001b[39;00m\n\u001b[0;32m    140\u001b[0m \u001b[38;5;28;01mif\u001b[39;00m retry_count \u001b[38;5;241m==\u001b[39m max_retries:\n\u001b[0;32m    141\u001b[0m     \u001b[38;5;28mprint\u001b[39m(\u001b[38;5;124mf\u001b[39m\u001b[38;5;124m\"\u001b[39m\u001b[38;5;124mNo s\u001b[39m\u001b[38;5;124m'\u001b[39m\u001b[38;5;124mha pogut descarregar l\u001b[39m\u001b[38;5;124m'\u001b[39m\u001b[38;5;124mExcel després de \u001b[39m\u001b[38;5;132;01m{\u001b[39;00mmax_retries\u001b[38;5;132;01m}\u001b[39;00m\u001b[38;5;124m intents.\u001b[39m\u001b[38;5;124m\"\u001b[39m)\n",
      "File \u001b[1;32m~\\Documents\\GitHub\\KINEOscraper\\scripts\\por_horas\\z_free\\../../..\\src\\download.py:70\u001b[0m, in \u001b[0;36mdownload_data\u001b[1;34m(driver, demarcacion, etd, option)\u001b[0m\n\u001b[0;32m     67\u001b[0m \u001b[38;5;28;01mwhile\u001b[39;00m retry_count \u001b[38;5;241m<\u001b[39m max_retries:\n\u001b[0;32m     68\u001b[0m     \u001b[38;5;28;01mtry\u001b[39;00m:\n\u001b[0;32m     69\u001b[0m         \u001b[38;5;66;03m# Initial/End date selector\u001b[39;00m\n\u001b[1;32m---> 70\u001b[0m         \u001b[43mselect_date\u001b[49m\u001b[43m(\u001b[49m\u001b[43mdriver\u001b[49m\u001b[43m,\u001b[49m\n\u001b[0;32m     71\u001b[0m \u001b[43m                    \u001b[49m\u001b[43mdate_picker_id\u001b[49m\u001b[38;5;241;43m=\u001b[39;49m\u001b[38;5;124;43m'\u001b[39;49m\u001b[38;5;124;43mLbFechaInicio_I\u001b[39;49m\u001b[38;5;124;43m'\u001b[39;49m\u001b[43m,\u001b[49m\n\u001b[0;32m     72\u001b[0m \u001b[43m                    \u001b[49m\u001b[43mdate_str\u001b[49m\u001b[38;5;241;43m=\u001b[39;49m\u001b[38;5;124;43mf\u001b[39;49m\u001b[38;5;124;43m'\u001b[39;49m\u001b[38;5;132;43;01m{\u001b[39;49;00m\u001b[43mdays\u001b[49m\u001b[43m[\u001b[49m\u001b[43mi\u001b[49m\u001b[43m]\u001b[49m\u001b[38;5;132;43;01m}\u001b[39;49;00m\u001b[38;5;124;43m 00:00:00\u001b[39;49m\u001b[38;5;124;43m'\u001b[39;49m\u001b[43m)\u001b[49m\n\u001b[0;32m     74\u001b[0m         select_date(driver,\n\u001b[0;32m     75\u001b[0m                     date_picker_id\u001b[38;5;241m=\u001b[39m\u001b[38;5;124m'\u001b[39m\u001b[38;5;124mLbFechaFin_I\u001b[39m\u001b[38;5;124m'\u001b[39m,\n\u001b[0;32m     76\u001b[0m                     date_str\u001b[38;5;241m=\u001b[39m\u001b[38;5;124mf\u001b[39m\u001b[38;5;124m'\u001b[39m\u001b[38;5;132;01m{\u001b[39;00mdays[i\u001b[38;5;250m \u001b[39m\u001b[38;5;241m+\u001b[39m\u001b[38;5;250m \u001b[39m\u001b[38;5;241m1\u001b[39m]\u001b[38;5;132;01m}\u001b[39;00m\u001b[38;5;124m 00:00:00\u001b[39m\u001b[38;5;124m'\u001b[39m)\n\u001b[0;32m     78\u001b[0m         sleep(\u001b[38;5;241m1\u001b[39m)\n",
      "File \u001b[1;32m~\\Documents\\GitHub\\KINEOscraper\\scripts\\por_horas\\z_free\\../../..\\src\\dates.py:70\u001b[0m, in \u001b[0;36mselect_date\u001b[1;34m(driver, date_picker_id, date_str)\u001b[0m\n\u001b[0;32m     67\u001b[0m day_cell_selector \u001b[38;5;241m=\u001b[39m \u001b[38;5;124mf\u001b[39m\u001b[38;5;124m\"\u001b[39m\u001b[38;5;124m#\u001b[39m\u001b[38;5;132;01m{\u001b[39;00mdate_picker_base_id\u001b[38;5;132;01m}\u001b[39;00m\u001b[38;5;124m_DDD_C_mt td.dxeCalendarDay_Office2010Blue\u001b[39m\u001b[38;5;124m\"\u001b[39m\n\u001b[0;32m     69\u001b[0m \u001b[38;5;66;03m#--- Click the calendar dropdown\u001b[39;00m\n\u001b[1;32m---> 70\u001b[0m date_picker_button \u001b[38;5;241m=\u001b[39m \u001b[43mdriver\u001b[49m\u001b[38;5;241;43m.\u001b[39;49m\u001b[43mfind_element\u001b[49m\u001b[43m(\u001b[49m\u001b[43mBy\u001b[49m\u001b[38;5;241;43m.\u001b[39;49m\u001b[43mID\u001b[49m\u001b[43m,\u001b[49m\u001b[43m \u001b[49m\u001b[43mdate_picker_button_id\u001b[49m\u001b[43m)\u001b[49m\n\u001b[0;32m     71\u001b[0m date_picker_button\u001b[38;5;241m.\u001b[39mclick()\n\u001b[0;32m     73\u001b[0m \u001b[38;5;66;03m# Wait for the calendar to become visible\u001b[39;00m\n",
      "File \u001b[1;32m~\\Documents\\GitHub\\KINEOscraper\\env\\kineo_env\\Lib\\site-packages\\selenium\\webdriver\\remote\\webdriver.py:748\u001b[0m, in \u001b[0;36mWebDriver.find_element\u001b[1;34m(self, by, value)\u001b[0m\n\u001b[0;32m    745\u001b[0m     by \u001b[38;5;241m=\u001b[39m By\u001b[38;5;241m.\u001b[39mCSS_SELECTOR\n\u001b[0;32m    746\u001b[0m     value \u001b[38;5;241m=\u001b[39m \u001b[38;5;124mf\u001b[39m\u001b[38;5;124m'\u001b[39m\u001b[38;5;124m[name=\u001b[39m\u001b[38;5;124m\"\u001b[39m\u001b[38;5;132;01m{\u001b[39;00mvalue\u001b[38;5;132;01m}\u001b[39;00m\u001b[38;5;124m\"\u001b[39m\u001b[38;5;124m]\u001b[39m\u001b[38;5;124m'\u001b[39m\n\u001b[1;32m--> 748\u001b[0m \u001b[38;5;28;01mreturn\u001b[39;00m \u001b[38;5;28;43mself\u001b[39;49m\u001b[38;5;241;43m.\u001b[39;49m\u001b[43mexecute\u001b[49m\u001b[43m(\u001b[49m\u001b[43mCommand\u001b[49m\u001b[38;5;241;43m.\u001b[39;49m\u001b[43mFIND_ELEMENT\u001b[49m\u001b[43m,\u001b[49m\u001b[43m \u001b[49m\u001b[43m{\u001b[49m\u001b[38;5;124;43m\"\u001b[39;49m\u001b[38;5;124;43musing\u001b[39;49m\u001b[38;5;124;43m\"\u001b[39;49m\u001b[43m:\u001b[49m\u001b[43m \u001b[49m\u001b[43mby\u001b[49m\u001b[43m,\u001b[49m\u001b[43m \u001b[49m\u001b[38;5;124;43m\"\u001b[39;49m\u001b[38;5;124;43mvalue\u001b[39;49m\u001b[38;5;124;43m\"\u001b[39;49m\u001b[43m:\u001b[49m\u001b[43m \u001b[49m\u001b[43mvalue\u001b[49m\u001b[43m}\u001b[49m\u001b[43m)\u001b[49m[\u001b[38;5;124m\"\u001b[39m\u001b[38;5;124mvalue\u001b[39m\u001b[38;5;124m\"\u001b[39m]\n",
      "File \u001b[1;32m~\\Documents\\GitHub\\KINEOscraper\\env\\kineo_env\\Lib\\site-packages\\selenium\\webdriver\\remote\\webdriver.py:354\u001b[0m, in \u001b[0;36mWebDriver.execute\u001b[1;34m(self, driver_command, params)\u001b[0m\n\u001b[0;32m    352\u001b[0m response \u001b[38;5;241m=\u001b[39m \u001b[38;5;28mself\u001b[39m\u001b[38;5;241m.\u001b[39mcommand_executor\u001b[38;5;241m.\u001b[39mexecute(driver_command, params)\n\u001b[0;32m    353\u001b[0m \u001b[38;5;28;01mif\u001b[39;00m response:\n\u001b[1;32m--> 354\u001b[0m     \u001b[38;5;28;43mself\u001b[39;49m\u001b[38;5;241;43m.\u001b[39;49m\u001b[43merror_handler\u001b[49m\u001b[38;5;241;43m.\u001b[39;49m\u001b[43mcheck_response\u001b[49m\u001b[43m(\u001b[49m\u001b[43mresponse\u001b[49m\u001b[43m)\u001b[49m\n\u001b[0;32m    355\u001b[0m     response[\u001b[38;5;124m\"\u001b[39m\u001b[38;5;124mvalue\u001b[39m\u001b[38;5;124m\"\u001b[39m] \u001b[38;5;241m=\u001b[39m \u001b[38;5;28mself\u001b[39m\u001b[38;5;241m.\u001b[39m_unwrap_value(response\u001b[38;5;241m.\u001b[39mget(\u001b[38;5;124m\"\u001b[39m\u001b[38;5;124mvalue\u001b[39m\u001b[38;5;124m\"\u001b[39m, \u001b[38;5;28;01mNone\u001b[39;00m))\n\u001b[0;32m    356\u001b[0m     \u001b[38;5;28;01mreturn\u001b[39;00m response\n",
      "File \u001b[1;32m~\\Documents\\GitHub\\KINEOscraper\\env\\kineo_env\\Lib\\site-packages\\selenium\\webdriver\\remote\\errorhandler.py:229\u001b[0m, in \u001b[0;36mErrorHandler.check_response\u001b[1;34m(self, response)\u001b[0m\n\u001b[0;32m    227\u001b[0m         alert_text \u001b[38;5;241m=\u001b[39m value[\u001b[38;5;124m\"\u001b[39m\u001b[38;5;124malert\u001b[39m\u001b[38;5;124m\"\u001b[39m]\u001b[38;5;241m.\u001b[39mget(\u001b[38;5;124m\"\u001b[39m\u001b[38;5;124mtext\u001b[39m\u001b[38;5;124m\"\u001b[39m)\n\u001b[0;32m    228\u001b[0m     \u001b[38;5;28;01mraise\u001b[39;00m exception_class(message, screen, stacktrace, alert_text)  \u001b[38;5;66;03m# type: ignore[call-arg]  # mypy is not smart enough here\u001b[39;00m\n\u001b[1;32m--> 229\u001b[0m \u001b[38;5;28;01mraise\u001b[39;00m exception_class(message, screen, stacktrace)\n",
      "\u001b[1;31mNoSuchElementException\u001b[0m: Message: Unable to locate element: [id=\"LbFechaInicio_B-1\"]; For documentation on this error, please visit: https://www.selenium.dev/documentation/webdriver/troubleshooting/errors#no-such-element-exception\nStacktrace:\nRemoteError@chrome://remote/content/shared/RemoteError.sys.mjs:8:8\nWebDriverError@chrome://remote/content/shared/webdriver/Errors.sys.mjs:193:5\nNoSuchElementError@chrome://remote/content/shared/webdriver/Errors.sys.mjs:511:5\ndom.find/</<@chrome://remote/content/shared/DOM.sys.mjs:136:16\n"
     ]
    }
   ],
   "source": [
    "from src.download import download_data\n",
    "from input.values import VALUES\n",
    "from src.directory import move_to_directory\n",
    "from private.config import DOWNLOADS_PATH, L_PATH\n",
    "\n",
    "for values in VALUES:\n",
    "    download_data(driver,\n",
    "                  demarcacion = values[\"demarcacion\"],\n",
    "                  etd = values[\"etd\"],\n",
    "                  option = 'free'\n",
    "                 )\n",
    "    move_to_directory(origin = DOWNLOADS_PATH,\n",
    "                      destination = L_PATH)"
   ]
  },
  {
   "cell_type": "markdown",
   "id": "42a90637-142c-4a30-b7a3-15ee6c3cd168",
   "metadata": {},
   "source": [
    "Exit driver"
   ]
  },
  {
   "cell_type": "code",
   "execution_count": null,
   "id": "f83074ae-44fe-4f96-a53f-c7c1219c32cd",
   "metadata": {},
   "outputs": [],
   "source": [
    "driver.quit()"
   ]
  }
 ],
 "metadata": {
  "kernelspec": {
   "display_name": "KINEOscraper env",
   "language": "python",
   "name": "kineo_env"
  },
  "language_info": {
   "codemirror_mode": {
    "name": "ipython",
    "version": 3
   },
   "file_extension": ".py",
   "mimetype": "text/x-python",
   "name": "python",
   "nbconvert_exporter": "python",
   "pygments_lexer": "ipython3",
   "version": "3.11.5"
  }
 },
 "nbformat": 4,
 "nbformat_minor": 5
}
