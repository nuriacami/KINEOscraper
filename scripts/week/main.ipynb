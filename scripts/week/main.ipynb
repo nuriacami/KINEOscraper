{
 "cells": [
  {
   "cell_type": "markdown",
   "id": "1d023949-ab25-4aaa-8207-77a84af8b8a5",
   "metadata": {},
   "source": [
    "# 1. Setup Driver"
   ]
  },
  {
   "cell_type": "code",
   "execution_count": 2,
   "id": "08fa7fa6-84cd-4bb7-8bd3-90aa3d4a84ee",
   "metadata": {},
   "outputs": [],
   "source": [
    "import sys\n",
    "sys.path.append(\"../../\")\n",
    "from src.driver import setup_driver\n",
    "driver = setup_driver()"
   ]
  },
  {
   "cell_type": "markdown",
   "id": "29120114-e414-444d-b054-2d1f493370c6",
   "metadata": {},
   "source": [
    "# 2. Access to KINEO - informe por horas "
   ]
  },
  {
   "cell_type": "code",
   "execution_count": 4,
   "id": "cb9838b2-8494-41c9-b41b-4674ea629b39",
   "metadata": {},
   "outputs": [
    {
     "ename": "TimeoutException",
     "evalue": "Message: \nStacktrace:\nRemoteError@chrome://remote/content/shared/RemoteError.sys.mjs:8:8\nWebDriverError@chrome://remote/content/shared/webdriver/Errors.sys.mjs:187:5\nNoSuchElementError@chrome://remote/content/shared/webdriver/Errors.sys.mjs:505:5\nelement.find/</<@chrome://remote/content/marionette/element.sys.mjs:135:16\n",
     "output_type": "error",
     "traceback": [
      "\u001b[1;31m---------------------------------------------------------------------------\u001b[0m",
      "\u001b[1;31mTimeoutException\u001b[0m                          Traceback (most recent call last)",
      "Cell \u001b[1;32mIn[4], line 5\u001b[0m\n\u001b[0;32m      2\u001b[0m \u001b[38;5;28;01mfrom\u001b[39;00m \u001b[38;5;21;01mprivate\u001b[39;00m\u001b[38;5;21;01m.\u001b[39;00m\u001b[38;5;21;01mconfig\u001b[39;00m \u001b[38;5;28;01mimport\u001b[39;00m USER_KEY, PASS_KEY\n\u001b[0;32m      4\u001b[0m \u001b[38;5;66;03m# login KINEO\u001b[39;00m\n\u001b[1;32m----> 5\u001b[0m \u001b[43mlogin\u001b[49m\u001b[43m(\u001b[49m\u001b[43mdriver\u001b[49m\u001b[43m,\u001b[49m\n\u001b[0;32m      6\u001b[0m \u001b[43m      \u001b[49m\u001b[43murl\u001b[49m\u001b[43m \u001b[49m\u001b[38;5;241;43m=\u001b[39;49m\u001b[43m \u001b[49m\u001b[38;5;124;43m'\u001b[39;49m\u001b[38;5;124;43mhttps://aforadores.mitma.es/contadorestraficofomento/Login.aspx\u001b[39;49m\u001b[38;5;124;43m'\u001b[39;49m\u001b[43m,\u001b[49m\n\u001b[0;32m      7\u001b[0m \u001b[43m      \u001b[49m\u001b[43musername\u001b[49m\u001b[43m \u001b[49m\u001b[38;5;241;43m=\u001b[39;49m\u001b[43m \u001b[49m\u001b[43mUSER_KEY\u001b[49m\u001b[43m,\u001b[49m\u001b[43m \u001b[49m\n\u001b[0;32m      8\u001b[0m \u001b[43m      \u001b[49m\u001b[43mpassword\u001b[49m\u001b[43m \u001b[49m\u001b[38;5;241;43m=\u001b[39;49m\u001b[43m \u001b[49m\u001b[43mPASS_KEY\u001b[49m\u001b[43m)\u001b[49m\n",
      "File \u001b[1;32m~\\Documents\\GitHub\\KINEOscraper\\scripts\\week\\../..\\src\\login.py:40\u001b[0m, in \u001b[0;36mlogin\u001b[1;34m(driver, url, username, password)\u001b[0m\n\u001b[0;32m     37\u001b[0m ActionChains(driver)\u001b[38;5;241m.\u001b[39mmove_to_element(accept_button)\u001b[38;5;241m.\u001b[39mclick()\u001b[38;5;241m.\u001b[39mperform()\n\u001b[0;32m     39\u001b[0m \u001b[38;5;66;03m# Wait until the next page's container is present\u001b[39;00m\n\u001b[1;32m---> 40\u001b[0m \u001b[43mWebDriverWait\u001b[49m\u001b[43m(\u001b[49m\u001b[43mdriver\u001b[49m\u001b[43m,\u001b[49m\u001b[43m \u001b[49m\u001b[38;5;241;43m10\u001b[39;49m\u001b[43m)\u001b[49m\u001b[38;5;241;43m.\u001b[39;49m\u001b[43muntil\u001b[49m\u001b[43m(\u001b[49m\n\u001b[0;32m     41\u001b[0m \u001b[43m    \u001b[49m\u001b[43mEC\u001b[49m\u001b[38;5;241;43m.\u001b[39;49m\u001b[43mpresence_of_element_located\u001b[49m\u001b[43m(\u001b[49m\u001b[43m(\u001b[49m\u001b[43mBy\u001b[49m\u001b[38;5;241;43m.\u001b[39;49m\u001b[43mID\u001b[49m\u001b[43m,\u001b[49m\u001b[43m \u001b[49m\u001b[38;5;124;43m\"\u001b[39;49m\u001b[38;5;124;43mctl00_ContentPlaceHolderDatos_PanelContainer\u001b[39;49m\u001b[38;5;124;43m\"\u001b[39;49m\u001b[43m)\u001b[49m\u001b[43m)\u001b[49m\n\u001b[0;32m     42\u001b[0m \u001b[43m\u001b[49m\u001b[43m)\u001b[49m\n\u001b[0;32m     44\u001b[0m \u001b[38;5;66;03m# Wait for 2 seconds\u001b[39;00m\n\u001b[0;32m     45\u001b[0m sleep(\u001b[38;5;241m2\u001b[39m)\n",
      "File \u001b[1;32m~\\Documents\\GitHub\\KINEOscraper\\env\\kineo_env\\Lib\\site-packages\\selenium\\webdriver\\support\\wait.py:105\u001b[0m, in \u001b[0;36mWebDriverWait.until\u001b[1;34m(self, method, message)\u001b[0m\n\u001b[0;32m    103\u001b[0m     \u001b[38;5;28;01mif\u001b[39;00m time\u001b[38;5;241m.\u001b[39mmonotonic() \u001b[38;5;241m>\u001b[39m end_time:\n\u001b[0;32m    104\u001b[0m         \u001b[38;5;28;01mbreak\u001b[39;00m\n\u001b[1;32m--> 105\u001b[0m \u001b[38;5;28;01mraise\u001b[39;00m TimeoutException(message, screen, stacktrace)\n",
      "\u001b[1;31mTimeoutException\u001b[0m: Message: \nStacktrace:\nRemoteError@chrome://remote/content/shared/RemoteError.sys.mjs:8:8\nWebDriverError@chrome://remote/content/shared/webdriver/Errors.sys.mjs:187:5\nNoSuchElementError@chrome://remote/content/shared/webdriver/Errors.sys.mjs:505:5\nelement.find/</<@chrome://remote/content/marionette/element.sys.mjs:135:16\n"
     ]
    }
   ],
   "source": [
    "from src.login import login\n",
    "from private.config import USER_KEY, PASS_KEY\n",
    "\n",
    "# login KINEO\n",
    "login(driver,\n",
    "      url = 'https://aforadores.mitma.es/contadorestraficofomento/Login.aspx',\n",
    "      username = USER_KEY, \n",
    "      password = PASS_KEY)"
   ]
  },
  {
   "cell_type": "markdown",
   "id": "4ec1ff40-4191-4d40-90e4-0cac7db9d29f",
   "metadata": {},
   "source": [
    "# 3. Make the requests and download data"
   ]
  },
  {
   "cell_type": "code",
   "execution_count": null,
   "id": "9a6c81e3-5a50-4562-a186-44421abee310",
   "metadata": {},
   "outputs": [],
   "source": [
    "from src.download import download_data\n",
    "from input.values import VALUES_week\n",
    "\n",
    "for values in VALUES_week:\n",
    "    download_data(driver, \n",
    "                  demarcacion = values[\"demarcacion\"],\n",
    "                  etd = values[\"etd\"],\n",
    "                  option = 'week'\n",
    "                 )"
   ]
  },
  {
   "cell_type": "markdown",
   "id": "42a90637-142c-4a30-b7a3-15ee6c3cd168",
   "metadata": {},
   "source": [
    "Exit driver"
   ]
  },
  {
   "cell_type": "code",
   "execution_count": null,
   "id": "f83074ae-44fe-4f96-a53f-c7c1219c32cd",
   "metadata": {},
   "outputs": [],
   "source": [
    "driver.quit()"
   ]
  },
  {
   "cell_type": "markdown",
   "id": "a13482dc-e528-4781-a992-cf17bba40b71",
   "metadata": {},
   "source": [
    "# 4. Move files to desired directory"
   ]
  },
  {
   "cell_type": "code",
   "execution_count": null,
   "id": "280af984-918f-495f-b578-930bb403331f",
   "metadata": {},
   "outputs": [],
   "source": [
    "from src.directory import move_to_directory\n",
    "from private.config import DOWNLOADS_PATH, L_PATH\n",
    "\n",
    "move_to_directory(origin = DOWNLOADS_PATH,\n",
    "                  destination = L_PATH)"
   ]
  }
 ],
 "metadata": {
  "kernelspec": {
   "display_name": "KINEOscraper env",
   "language": "python",
   "name": "kineo_env"
  },
  "language_info": {
   "codemirror_mode": {
    "name": "ipython",
    "version": 3
   },
   "file_extension": ".py",
   "mimetype": "text/x-python",
   "name": "python",
   "nbconvert_exporter": "python",
   "pygments_lexer": "ipython3",
   "version": "3.11.7"
  }
 },
 "nbformat": 4,
 "nbformat_minor": 5
}
