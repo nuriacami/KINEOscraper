{
 "cells": [
  {
   "cell_type": "markdown",
   "id": "b4b7aa5e-cb92-4bbd-b5c6-e8090cf72bae",
   "metadata": {},
   "source": [
    "Import source"
   ]
  },
  {
   "cell_type": "code",
   "execution_count": 2,
   "id": "f024e127-d9fa-4034-801e-662d2ba35827",
   "metadata": {},
   "outputs": [],
   "source": [
    "import sys\n",
    "sys.path.append(\"src\")"
   ]
  },
  {
   "cell_type": "markdown",
   "id": "2b5079ed-cc4e-4e79-ad15-45cc4c839f2c",
   "metadata": {},
   "source": [
    "Initialize timer"
   ]
  },
  {
   "cell_type": "code",
   "execution_count": 4,
   "id": "533ae3cd-014e-455e-bb0d-07ac00912416",
   "metadata": {},
   "outputs": [],
   "source": [
    "import time\n",
    "from time import sleep\n",
    "start_time = time.time()"
   ]
  },
  {
   "cell_type": "markdown",
   "id": "1d023949-ab25-4aaa-8207-77a84af8b8a5",
   "metadata": {},
   "source": [
    "# 1. Setup Driver"
   ]
  },
  {
   "cell_type": "code",
   "execution_count": 6,
   "id": "7c4b4e89-04fb-4e68-9358-a34ee84fa7fa",
   "metadata": {},
   "outputs": [],
   "source": [
    "from driver import setup_driver\n",
    "driver = setup_driver()"
   ]
  },
  {
   "cell_type": "markdown",
   "id": "29120114-e414-444d-b054-2d1f493370c6",
   "metadata": {},
   "source": [
    "# 2. Login KINEO"
   ]
  },
  {
   "cell_type": "code",
   "execution_count": 8,
   "id": "cb9838b2-8494-41c9-b41b-4674ea629b39",
   "metadata": {},
   "outputs": [],
   "source": [
    "from login import login\n",
    "from config import USER_KEY, PASS_KEY\n",
    "url = 'https://aforadores.mitma.es/contadorestraficofomento/Login.aspx'\n",
    "username = USER_KEY\n",
    "password = PASS_KEY\n",
    "login(driver, url, username, password)"
   ]
  },
  {
   "cell_type": "markdown",
   "id": "314953eb-cc31-4d35-8aea-33ce209ffc03",
   "metadata": {},
   "source": [
    "# 3. go to \"Informe por horas\" "
   ]
  },
  {
   "cell_type": "code",
   "execution_count": 10,
   "id": "5d0a7f13-5e74-4aee-9b4b-f4f805c107b0",
   "metadata": {},
   "outputs": [],
   "source": [
    "driver.get('https://aforadores.mitma.es/contadorestraficofomento/InformePorHorasCalzadaCarrilAforo.aspx')"
   ]
  },
  {
   "cell_type": "markdown",
   "id": "4ec1ff40-4191-4d40-90e4-0cac7db9d29f",
   "metadata": {},
   "source": [
    "# 4. 'Demarcación' dropdown"
   ]
  },
  {
   "cell_type": "code",
   "execution_count": 12,
   "id": "b9229451-46b1-48a2-8c1d-cc3182eee147",
   "metadata": {},
   "outputs": [
    {
     "name": "stdout",
     "output_type": "stream",
     "text": [
      "Valor seleccionat: AP7 BARCELONA SECTOR 4\n",
      "\n"
     ]
    }
   ],
   "source": [
    "from dropdown import select_dropdown_value, get_dropdown_values\n",
    "input_id_dem = \"ctl00_ContentPlaceHolderDatos_CbDemarcacion_I\"\n",
    "dropdown_button_id_dem = \"ctl00_ContentPlaceHolderDatos_CbDemarcacion_B-1\"\n",
    "value_to_select_dem = \"AP7 BARCELONA SECTOR 4\" \n",
    "select_dropdown_value(driver, input_id_dem, dropdown_button_id_dem, value_to_select_dem)\n",
    "\n",
    "sleep(1)"
   ]
  },
  {
   "cell_type": "markdown",
   "id": "a7fd9b15-cad6-44d2-8e9b-ee780cc63924",
   "metadata": {},
   "source": [
    "# 5. Set ETD values"
   ]
  },
  {
   "cell_type": "code",
   "execution_count": 14,
   "id": "2b947507-c24f-4d2b-a119-f44c3c18a697",
   "metadata": {},
   "outputs": [],
   "source": [
    "dropdown_values_etd = ['AP7-125+650-100270000000', 'AP7-129+500-100280000000', 'AP7-134+050-100290000000']"
   ]
  },
  {
   "cell_type": "markdown",
   "id": "4413e05a-8cc2-46c5-bcd1-7c7af03cc10a",
   "metadata": {},
   "source": [
    "# 6. Iteration over ETD values, date selector and download Excel result"
   ]
  },
  {
   "cell_type": "code",
   "execution_count": 16,
   "id": "95acb6e7-7d8e-486a-9160-b6d5a3e31b5e",
   "metadata": {},
   "outputs": [
    {
     "name": "stdout",
     "output_type": "stream",
     "text": [
      "Valor seleccionat: AP7-125+650-100270000000\n",
      "\n",
      "Valor seleccionat: CARRIL\n",
      "\n",
      "Temps transcorregut: 0:01:01.946970\n",
      "\n",
      "Valor seleccionat: AP7-129+500-100280000000\n",
      "\n",
      "Valor seleccionat: CARRIL\n",
      "\n",
      "Temps transcorregut: 0:01:30.814741\n",
      "\n",
      "Valor seleccionat: AP7-134+050-100290000000\n",
      "\n",
      "Valor seleccionat: CARRIL\n",
      "\n",
      "Temps transcorregut: 0:01:59.285521\n",
      "\n"
     ]
    }
   ],
   "source": [
    "from button import click_button, download_excel\n",
    "from dates import select_date\n",
    "from selenium.webdriver.support.ui import WebDriverWait\n",
    "from selenium.webdriver.support import expected_conditions as EC\n",
    "from selenium.webdriver.common.by import By\n",
    "from selenium.common.exceptions import TimeoutException\n",
    "import pyautogui\n",
    "from utils import print_elapsed_time, check_no_data_message\n",
    "\n",
    "# initialize flag\n",
    "first_iteration = True\n",
    "\n",
    "for value_to_select_etd in dropdown_values_etd:\n",
    "\n",
    "    # Select ETD value\n",
    "    input_id_etd = 'ctl00_ContentPlaceHolderDatos_CbEtd_I'\n",
    "    dropdown_button_id_etd = 'ctl00_ContentPlaceHolderDatos_CbEtd_B-1'\n",
    "    select_dropdown_value(driver, input_id_etd, dropdown_button_id_etd, value_to_select_etd)\n",
    "\n",
    "    sleep(1)\n",
    "    \n",
    "    # Initial/End date selector\n",
    "    input_id_ini = 'LbFechaInicio_I'\n",
    "    value_to_select_ini = '27/06/2024 00:00:00'\n",
    "    select_date(driver, input_id_ini, value_to_select_ini)\n",
    "    \n",
    "    input_id_fin = 'LbFechaFin_I'\n",
    "    value_to_select_fin = '28/06/2024 00:00:00'\n",
    "    select_date(driver, input_id_fin, value_to_select_fin)\n",
    "    \n",
    "    sleep(1)\n",
    "\n",
    "    # Select Desglose value\n",
    "    input_id_des = \"ctl00_ContentPlaceHolderDatos_CbDesglose_I\"\n",
    "    dropdown_button_id_des = \"ctl00_ContentPlaceHolderDatos_CbDesglose_B-1\"\n",
    "    value_to_select_des = \"CARRIL\" \n",
    "    select_dropdown_value(driver, input_id_des, dropdown_button_id_des, value_to_select_des)\n",
    "\n",
    "    sleep(1)\n",
    "\n",
    "    # Click 'Ver' button\n",
    "    button_id_ver = \"ctl00_ContentPlaceHolderDatos_BtVerListado_I\"\n",
    "    click_button(driver, button_id_ver)\n",
    "\n",
    "    # Wait for \"LoadingPanel\" to appear\n",
    "    sleep(2)\n",
    "\n",
    "    # Wait until results table is loaded\n",
    "    while True:\n",
    "        try:\n",
    "            # Check if \"LoadingPanel\" is visible\n",
    "            WebDriverWait(driver, 1).until( \n",
    "                EC.visibility_of_element_located((By.ID, \"LoadingPanel\"))\n",
    "            )\n",
    "        except TimeoutException:\n",
    "            break\n",
    "\n",
    "    sleep(2)\n",
    "\n",
    "    # While message \"No hay datos para mostrar\" is not shown, Excel will be downloaded\n",
    "    if not check_no_data_message(driver):\n",
    "\n",
    "        if first_iteration:\n",
    "            # 80% zoom adjustment\n",
    "            pyautogui.keyDown('ctrl')\n",
    "            pyautogui.press('-')\n",
    "            pyautogui.press('-')\n",
    "            pyautogui.keyUp('ctrl')\n",
    "\n",
    "            first_iteration = False\n",
    "        \n",
    "        # Click to download Excel\n",
    "        button_id_exc = \"ctl00_ContentPlaceHolderDatos_BtExcel_I\"\n",
    "        download_excel(driver, button_id_exc) \n",
    "        \n",
    "        sleep(15)  # Wait till download is completed \n",
    "        \n",
    "    else:\n",
    "        print(f\"La ETD {value_to_select_etd} no conté dades a la seva taula. No es baixarà cap document Excel.\")\n",
    "\n",
    "    # printar elapsed time\n",
    "    print_elapsed_time(start_time)\n",
    "    print()\n",
    "\n",
    "driver.quit()"
   ]
  }
 ],
 "metadata": {
  "kernelspec": {
   "display_name": "Python 3 (ipykernel)",
   "language": "python",
   "name": "python3"
  },
  "language_info": {
   "codemirror_mode": {
    "name": "ipython",
    "version": 3
   },
   "file_extension": ".py",
   "mimetype": "text/x-python",
   "name": "python",
   "nbconvert_exporter": "python",
   "pygments_lexer": "ipython3",
   "version": "3.11.7"
  }
 },
 "nbformat": 4,
 "nbformat_minor": 5
}
