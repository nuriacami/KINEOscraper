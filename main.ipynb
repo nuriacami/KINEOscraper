{
 "cells": [
  {
   "cell_type": "markdown",
   "id": "b4b7aa5e-cb92-4bbd-b5c6-e8090cf72bae",
   "metadata": {},
   "source": [
    "Import source"
   ]
  },
  {
   "cell_type": "code",
   "execution_count": 2,
   "id": "f024e127-d9fa-4034-801e-662d2ba35827",
   "metadata": {},
   "outputs": [],
   "source": [
    "import sys\n",
    "sys.path.append(\"src\")"
   ]
  },
  {
   "cell_type": "markdown",
   "id": "2b5079ed-cc4e-4e79-ad15-45cc4c839f2c",
   "metadata": {},
   "source": [
    "Initialize timer"
   ]
  },
  {
   "cell_type": "code",
   "execution_count": 4,
   "id": "533ae3cd-014e-455e-bb0d-07ac00912416",
   "metadata": {},
   "outputs": [],
   "source": [
    "import time\n",
    "from time import sleep\n",
    "start_time = time.time()"
   ]
  },
  {
   "cell_type": "markdown",
   "id": "1d023949-ab25-4aaa-8207-77a84af8b8a5",
   "metadata": {},
   "source": [
    "# 1. Setup Driver"
   ]
  },
  {
   "cell_type": "code",
   "execution_count": 6,
   "id": "7c4b4e89-04fb-4e68-9358-a34ee84fa7fa",
   "metadata": {},
   "outputs": [],
   "source": [
    "from driver import setup_driver\n",
    "driver = setup_driver()"
   ]
  },
  {
   "cell_type": "markdown",
   "id": "29120114-e414-444d-b054-2d1f493370c6",
   "metadata": {},
   "source": [
    "# 2. Login KINEO"
   ]
  },
  {
   "cell_type": "code",
   "execution_count": 8,
   "id": "cb9838b2-8494-41c9-b41b-4674ea629b39",
   "metadata": {},
   "outputs": [],
   "source": [
    "from login import login\n",
    "from config import USER_KEY, PASS_KEY\n",
    "\n",
    "login(driver,\n",
    "      url = 'https://aforadores.mitma.es/contadorestraficofomento/Login.aspx',\n",
    "      username = USER_KEY, \n",
    "      password = PASS_KEY)"
   ]
  },
  {
   "cell_type": "markdown",
   "id": "314953eb-cc31-4d35-8aea-33ce209ffc03",
   "metadata": {},
   "source": [
    "# 3. go to \"Informe por horas\" "
   ]
  },
  {
   "cell_type": "code",
   "execution_count": 10,
   "id": "5d0a7f13-5e74-4aee-9b4b-f4f805c107b0",
   "metadata": {},
   "outputs": [],
   "source": [
    "driver.get('https://aforadores.mitma.es/contadorestraficofomento/InformePorHorasCalzadaCarrilAforo.aspx')"
   ]
  },
  {
   "cell_type": "markdown",
   "id": "4ec1ff40-4191-4d40-90e4-0cac7db9d29f",
   "metadata": {},
   "source": [
    "# 4. AP7 BARCELONA SECTOR 4"
   ]
  },
  {
   "cell_type": "markdown",
   "id": "3f722342-59be-46b0-9d32-ebfcd9050990",
   "metadata": {},
   "source": [
    "## Dropdown 'Demarcación'"
   ]
  },
  {
   "cell_type": "code",
   "execution_count": 13,
   "id": "b9229451-46b1-48a2-8c1d-cc3182eee147",
   "metadata": {},
   "outputs": [
    {
     "name": "stdout",
     "output_type": "stream",
     "text": [
      "Valor seleccionat: AP7 BARCELONA SECTOR 4\n",
      "\n"
     ]
    }
   ],
   "source": [
    "from dropdown import select_dropdown_value\n",
    "\n",
    "select_dropdown_value(driver, \n",
    "                      input_id = \"ctl00_ContentPlaceHolderDatos_CbDemarcacion_I\",\n",
    "                      dropdown_button_id = \"ctl00_ContentPlaceHolderDatos_CbDemarcacion_B-1\",\n",
    "                      value = \"AP7 BARCELONA SECTOR 4\")\n",
    "\n",
    "sleep(1)"
   ]
  },
  {
   "cell_type": "markdown",
   "id": "a7fd9b15-cad6-44d2-8e9b-ee780cc63924",
   "metadata": {},
   "source": [
    "## ETD values"
   ]
  },
  {
   "cell_type": "code",
   "execution_count": 15,
   "id": "2b947507-c24f-4d2b-a119-f44c3c18a697",
   "metadata": {},
   "outputs": [],
   "source": [
    "dropdown_values_etd = ['AP7-125+650-100270000000', 'AP7-129+500-100280000000', 'AP7-134+050-100290000000']"
   ]
  },
  {
   "cell_type": "markdown",
   "id": "4413e05a-8cc2-46c5-bcd1-7c7af03cc10a",
   "metadata": {},
   "source": [
    "## Download Excel result"
   ]
  },
  {
   "cell_type": "code",
   "execution_count": 17,
   "id": "95acb6e7-7d8e-486a-9160-b6d5a3e31b5e",
   "metadata": {},
   "outputs": [
    {
     "name": "stdout",
     "output_type": "stream",
     "text": [
      "['22/07/2024', '23/07/2024', '24/07/2024', '25/07/2024', '26/07/2024', '27/07/2024', '28/07/2024', '29/07/2024']\n",
      "Valor seleccionat: AP7-125+650-100270000000\n",
      "\n",
      "22/07/2024 00:00:00\n",
      "23/07/2024 00:00:00\n",
      "Valor seleccionat: CARRIL\n",
      "\n",
      "Temps transcorregut: 0:00:56.059428\n",
      "\n",
      "23/07/2024 00:00:00\n",
      "24/07/2024 00:00:00\n",
      "Valor seleccionat: CARRIL\n",
      "\n",
      "Temps transcorregut: 0:01:21.333568\n",
      "\n",
      "24/07/2024 00:00:00\n",
      "25/07/2024 00:00:00\n",
      "Valor seleccionat: CARRIL\n",
      "\n",
      "Temps transcorregut: 0:01:46.662992\n",
      "\n",
      "25/07/2024 00:00:00\n",
      "26/07/2024 00:00:00\n",
      "Valor seleccionat: CARRIL\n",
      "\n",
      "Temps transcorregut: 0:02:12.001762\n",
      "\n",
      "26/07/2024 00:00:00\n",
      "27/07/2024 00:00:00\n",
      "Valor seleccionat: CARRIL\n",
      "\n",
      "Temps transcorregut: 0:02:37.306845\n",
      "\n",
      "27/07/2024 00:00:00\n",
      "28/07/2024 00:00:00\n",
      "Valor seleccionat: CARRIL\n",
      "\n",
      "Temps transcorregut: 0:03:02.626856\n",
      "\n",
      "28/07/2024 00:00:00\n",
      "29/07/2024 00:00:00\n",
      "Valor seleccionat: CARRIL\n",
      "\n",
      "Temps transcorregut: 0:03:27.934343\n",
      "\n",
      "Valor seleccionat: AP7-129+500-100280000000\n",
      "\n",
      "22/07/2024 00:00:00\n",
      "23/07/2024 00:00:00\n",
      "Valor seleccionat: CARRIL\n",
      "\n",
      "Temps transcorregut: 0:03:58.145077\n",
      "\n",
      "23/07/2024 00:00:00\n",
      "24/07/2024 00:00:00\n",
      "Valor seleccionat: CARRIL\n",
      "\n",
      "Temps transcorregut: 0:04:23.421482\n",
      "\n",
      "24/07/2024 00:00:00\n",
      "25/07/2024 00:00:00\n",
      "Valor seleccionat: CARRIL\n",
      "\n",
      "Temps transcorregut: 0:04:48.593142\n",
      "\n",
      "25/07/2024 00:00:00\n",
      "26/07/2024 00:00:00\n",
      "Valor seleccionat: CARRIL\n",
      "\n",
      "Temps transcorregut: 0:05:13.867078\n",
      "\n",
      "26/07/2024 00:00:00\n",
      "27/07/2024 00:00:00\n",
      "Valor seleccionat: CARRIL\n",
      "\n",
      "Temps transcorregut: 0:05:39.159532\n",
      "\n",
      "27/07/2024 00:00:00\n",
      "28/07/2024 00:00:00\n",
      "Valor seleccionat: CARRIL\n",
      "\n",
      "Temps transcorregut: 0:06:04.471749\n",
      "\n",
      "28/07/2024 00:00:00\n",
      "29/07/2024 00:00:00\n"
     ]
    },
    {
     "ename": "ValueError",
     "evalue": "not enough values to unpack (expected 2, got 1)",
     "output_type": "error",
     "traceback": [
      "\u001b[1;31m---------------------------------------------------------------------------\u001b[0m",
      "\u001b[1;31mValueError\u001b[0m                                Traceback (most recent call last)",
      "Cell \u001b[1;32mIn[17], line 35\u001b[0m\n\u001b[0;32m     32\u001b[0m \u001b[38;5;28mprint\u001b[39m(value_to_select_fin)\n\u001b[0;32m     34\u001b[0m \u001b[38;5;66;03m# Initial/End date selector\u001b[39;00m\n\u001b[1;32m---> 35\u001b[0m select_date(driver,\n\u001b[0;32m     36\u001b[0m             date_picker_id \u001b[38;5;241m=\u001b[39m \u001b[38;5;124m'\u001b[39m\u001b[38;5;124mLbFechaInicio_I\u001b[39m\u001b[38;5;124m'\u001b[39m,\n\u001b[0;32m     37\u001b[0m             date_str \u001b[38;5;241m=\u001b[39m value_to_select_ini)\n\u001b[0;32m     39\u001b[0m select_date(driver,\n\u001b[0;32m     40\u001b[0m             date_picker_id \u001b[38;5;241m=\u001b[39m \u001b[38;5;124m'\u001b[39m\u001b[38;5;124mLbFechaFin_I\u001b[39m\u001b[38;5;124m'\u001b[39m,\n\u001b[0;32m     41\u001b[0m             date_str \u001b[38;5;241m=\u001b[39m value_to_select_fin)\n\u001b[0;32m     43\u001b[0m sleep(\u001b[38;5;241m1\u001b[39m)\n",
      "File \u001b[1;32m~\\Documents\\GitHub\\KINEOscraper\\src\\dates.py:58\u001b[0m, in \u001b[0;36mselect_date\u001b[1;34m(driver, date_picker_id, date_str)\u001b[0m\n\u001b[0;32m     56\u001b[0m \u001b[38;5;28;01mwhile\u001b[39;00m \u001b[38;5;28;01mTrue\u001b[39;00m:\n\u001b[0;32m     57\u001b[0m     displayed_month_year \u001b[38;5;241m=\u001b[39m driver\u001b[38;5;241m.\u001b[39mfind_element(By\u001b[38;5;241m.\u001b[39mID, calendar_title_id)\u001b[38;5;241m.\u001b[39mtext\n\u001b[1;32m---> 58\u001b[0m     displayed_month, displayed_year \u001b[38;5;241m=\u001b[39m displayed_month_year\u001b[38;5;241m.\u001b[39msplit(\u001b[38;5;124m'\u001b[39m\u001b[38;5;124m de \u001b[39m\u001b[38;5;124m'\u001b[39m)\n\u001b[0;32m     59\u001b[0m     displayed_month \u001b[38;5;241m=\u001b[39m {\n\u001b[0;32m     60\u001b[0m         \u001b[38;5;124m\"\u001b[39m\u001b[38;5;124menero\u001b[39m\u001b[38;5;124m\"\u001b[39m: \u001b[38;5;241m1\u001b[39m, \u001b[38;5;124m\"\u001b[39m\u001b[38;5;124mfebrero\u001b[39m\u001b[38;5;124m\"\u001b[39m: \u001b[38;5;241m2\u001b[39m, \u001b[38;5;124m\"\u001b[39m\u001b[38;5;124mmarzo\u001b[39m\u001b[38;5;124m\"\u001b[39m: \u001b[38;5;241m3\u001b[39m, \u001b[38;5;124m\"\u001b[39m\u001b[38;5;124mabril\u001b[39m\u001b[38;5;124m\"\u001b[39m: \u001b[38;5;241m4\u001b[39m,\n\u001b[0;32m     61\u001b[0m         \u001b[38;5;124m\"\u001b[39m\u001b[38;5;124mmayo\u001b[39m\u001b[38;5;124m\"\u001b[39m: \u001b[38;5;241m5\u001b[39m, \u001b[38;5;124m\"\u001b[39m\u001b[38;5;124mjunio\u001b[39m\u001b[38;5;124m\"\u001b[39m: \u001b[38;5;241m6\u001b[39m, \u001b[38;5;124m\"\u001b[39m\u001b[38;5;124mjulio\u001b[39m\u001b[38;5;124m\"\u001b[39m: \u001b[38;5;241m7\u001b[39m, \u001b[38;5;124m\"\u001b[39m\u001b[38;5;124magosto\u001b[39m\u001b[38;5;124m\"\u001b[39m: \u001b[38;5;241m8\u001b[39m,\n\u001b[0;32m     62\u001b[0m         \u001b[38;5;124m\"\u001b[39m\u001b[38;5;124mseptiembre\u001b[39m\u001b[38;5;124m\"\u001b[39m: \u001b[38;5;241m9\u001b[39m, \u001b[38;5;124m\"\u001b[39m\u001b[38;5;124moctubre\u001b[39m\u001b[38;5;124m\"\u001b[39m: \u001b[38;5;241m10\u001b[39m, \u001b[38;5;124m\"\u001b[39m\u001b[38;5;124mnoviembre\u001b[39m\u001b[38;5;124m\"\u001b[39m: \u001b[38;5;241m11\u001b[39m, \u001b[38;5;124m\"\u001b[39m\u001b[38;5;124mdiciembre\u001b[39m\u001b[38;5;124m\"\u001b[39m: \u001b[38;5;241m12\u001b[39m\n\u001b[0;32m     63\u001b[0m     }[displayed_month]\n\u001b[0;32m     64\u001b[0m     displayed_year \u001b[38;5;241m=\u001b[39m \u001b[38;5;28mint\u001b[39m(displayed_year)\n",
      "\u001b[1;31mValueError\u001b[0m: not enough values to unpack (expected 2, got 1)"
     ]
    }
   ],
   "source": [
    "from button import click_button, download_excel\n",
    "from dates import get_week, select_date\n",
    "from selenium.webdriver.support.ui import WebDriverWait\n",
    "from selenium.webdriver.support import expected_conditions as EC\n",
    "from selenium.webdriver.common.by import By\n",
    "from selenium.common.exceptions import TimeoutException\n",
    "import pyautogui\n",
    "from utils import print_elapsed_time, check_no_data_message\n",
    "\n",
    "# initialize flag # això no caldrà posar-ho a SECTOR5\n",
    "flag = True\n",
    "week = get_week()\n",
    "print(week)\n",
    "\n",
    "for value_to_select_etd in dropdown_values_etd:\n",
    "\n",
    "    # Select ETD value\n",
    "    select_dropdown_value(driver,\n",
    "                          input_id = 'ctl00_ContentPlaceHolderDatos_CbEtd_I',\n",
    "                          dropdown_button_id = 'ctl00_ContentPlaceHolderDatos_CbEtd_B-1',\n",
    "                          value = value_to_select_etd)\n",
    "\n",
    "    sleep(1)\n",
    "\n",
    "    # For every weekday\n",
    "    for i in range(len(week) - 1):\n",
    "\n",
    "        # Set init/end date\n",
    "        value_to_select_ini = f'{week[i]} 00:00:00'\n",
    "        value_to_select_fin = f'{week[i + 1]} 00:00:00'\n",
    "        print(value_to_select_ini)\n",
    "        print(value_to_select_fin)\n",
    "\n",
    "        # NO ENTENC PERQUÈ PERÒ NO FUNCIONA\n",
    "        # Initial/End date selector\n",
    "        select_date(driver,\n",
    "                    date_picker_id = 'LbFechaInicio_I',\n",
    "                    date_str = value_to_select_ini)\n",
    "        \n",
    "        select_date(driver,\n",
    "                    date_picker_id = 'LbFechaFin_I',\n",
    "                    date_str = value_to_select_fin)\n",
    "        \n",
    "        sleep(1)\n",
    "    \n",
    "        # Select Desglose value\n",
    "        select_dropdown_value(driver,\n",
    "                              input_id = \"ctl00_ContentPlaceHolderDatos_CbDesglose_I\",\n",
    "                              dropdown_button_id = \"ctl00_ContentPlaceHolderDatos_CbDesglose_B-1\",\n",
    "                              value = \"CARRIL\")\n",
    "    \n",
    "        sleep(1)\n",
    "    \n",
    "        # Click 'Ver' button\n",
    "        click_button(driver, \n",
    "                     button_id = \"ctl00_ContentPlaceHolderDatos_BtVerListado_I\")\n",
    "    \n",
    "        # Wait for \"LoadingPanel\" to appear\n",
    "        sleep(2)\n",
    "    \n",
    "        # Wait until results table is loaded\n",
    "        while True:\n",
    "            try:\n",
    "                # Check if \"LoadingPanel\" is visible\n",
    "                WebDriverWait(driver, 1).until( \n",
    "                    EC.visibility_of_element_located((By.ID, \"LoadingPanel\"))\n",
    "                )\n",
    "            except TimeoutException:\n",
    "                break\n",
    "    \n",
    "        sleep(2)\n",
    "    \n",
    "        # While message \"No hay datos para mostrar\" is not shown, Excel will be downloaded\n",
    "        if not check_no_data_message(driver):\n",
    "    \n",
    "            if flag:\n",
    "                # 80% zoom adjustment\n",
    "                pyautogui.keyDown('ctrl')\n",
    "                pyautogui.press('-')\n",
    "                pyautogui.press('-')\n",
    "                pyautogui.keyUp('ctrl')\n",
    "    \n",
    "                flag = False\n",
    "            \n",
    "            # Click to download Excel\n",
    "            download_excel(driver,\n",
    "                           button_id = \"ctl00_ContentPlaceHolderDatos_BtExcel_I\") \n",
    "            \n",
    "            sleep(15)  # Wait till download is completed \n",
    "            \n",
    "        else:\n",
    "            print(f\"La ETD {value_to_select_etd} no conté dades a la seva taula. No es baixarà cap document Excel.\")\n",
    "    \n",
    "        # printar elapsed time\n",
    "        print_elapsed_time(start_time)\n",
    "        print()\n",
    "\n",
    "driver.quit()"
   ]
  },
  {
   "cell_type": "markdown",
   "id": "0b6cb9e5-0a84-48be-8318-936c68100870",
   "metadata": {},
   "source": [
    "# (repetir el mateix per) 5. AP7 BARCELONA SECTOR 5"
   ]
  }
 ],
 "metadata": {
  "kernelspec": {
   "display_name": "Python 3 (ipykernel)",
   "language": "python",
   "name": "python3"
  },
  "language_info": {
   "codemirror_mode": {
    "name": "ipython",
    "version": 3
   },
   "file_extension": ".py",
   "mimetype": "text/x-python",
   "name": "python",
   "nbconvert_exporter": "python",
   "pygments_lexer": "ipython3",
   "version": "3.11.7"
  }
 },
 "nbformat": 4,
 "nbformat_minor": 5
}
