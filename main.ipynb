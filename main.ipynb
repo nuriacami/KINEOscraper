{
 "cells": [
  {
   "cell_type": "markdown",
   "id": "1d023949-ab25-4aaa-8207-77a84af8b8a5",
   "metadata": {},
   "source": [
    "# 1. Setup Driver"
   ]
  },
  {
   "cell_type": "code",
   "execution_count": 2,
   "id": "3bff7fec-dfe7-4f59-83be-27ccc4532ee5",
   "metadata": {},
   "outputs": [],
   "source": [
    "from src.driver import setup_driver\n",
    "driver = setup_driver()"
   ]
  },
  {
   "cell_type": "markdown",
   "id": "29120114-e414-444d-b054-2d1f493370c6",
   "metadata": {},
   "source": [
    "# 2. Access to KINEO - informe por horas "
   ]
  },
  {
   "cell_type": "code",
   "execution_count": 4,
   "id": "cb9838b2-8494-41c9-b41b-4674ea629b39",
   "metadata": {},
   "outputs": [],
   "source": [
    "from src.login import login\n",
    "from private.config import USER_KEY, PASS_KEY\n",
    "\n",
    "# login KINEO\n",
    "login(driver,\n",
    "      url = 'https://aforadores.mitma.es/contadorestraficofomento/Login.aspx',\n",
    "      username = USER_KEY, \n",
    "      password = PASS_KEY)\n",
    "\n",
    "# go to \"Informe por horas\"\n",
    "driver.get('https://aforadores.mitma.es/contadorestraficofomento/InformePorHorasCalzadaCarrilAforo.aspx')"
   ]
  },
  {
   "cell_type": "markdown",
   "id": "4ec1ff40-4191-4d40-90e4-0cac7db9d29f",
   "metadata": {},
   "source": [
    "# 3. Make a request and download data"
   ]
  },
  {
   "cell_type": "markdown",
   "id": "a3d75e03-6f99-4ea8-a3df-dcc5e392b21b",
   "metadata": {},
   "source": [
    "### AP7 BARCELONA SECTOR 4"
   ]
  },
  {
   "cell_type": "code",
   "execution_count": null,
   "id": "b6d05825-22ca-4a33-a253-dbab117e9efa",
   "metadata": {},
   "outputs": [],
   "source": [
    "from src.download import download_week\n",
    "\n",
    "download_week(driver,\n",
    "              demarcacion = \"AP7 BARCELONA SECTOR 4\",\n",
    "              etd = ['AP7-125+650-100270000000', 'AP7-129+500-100280000000', 'AP7-134+050-100290000000'])"
   ]
  },
  {
   "cell_type": "markdown",
   "id": "a57b90e2-4f94-4b96-95e2-09a2804e85e5",
   "metadata": {},
   "source": [
    "### AP7 BARCELONA SECTOR 5"
   ]
  },
  {
   "cell_type": "code",
   "execution_count": null,
   "id": "84a6de0e-559d-4380-93a6-d0b37073c11c",
   "metadata": {},
   "outputs": [],
   "source": [
    "download_week(driver,\n",
    "              demarcacion = \"AP7 BARCELONA SECTOR 5\",\n",
    "              etd = ['AP7-173+000-100430000000'])"
   ]
  },
  {
   "cell_type": "markdown",
   "id": "a13482dc-e528-4781-a992-cf17bba40b71",
   "metadata": {},
   "source": [
    "# 4. Exit driver"
   ]
  },
  {
   "cell_type": "code",
   "execution_count": null,
   "id": "bf057211-07c6-4b0b-8176-7da7cb7e23c3",
   "metadata": {},
   "outputs": [],
   "source": [
    "driver.quit()"
   ]
  }
 ],
 "metadata": {
  "kernelspec": {
   "display_name": "KINEOscraper env",
   "language": "python",
   "name": "kineo_env"
  },
  "language_info": {
   "codemirror_mode": {
    "name": "ipython",
    "version": 3
   },
   "file_extension": ".py",
   "mimetype": "text/x-python",
   "name": "python",
   "nbconvert_exporter": "python",
   "pygments_lexer": "ipython3",
   "version": "3.11.7"
  }
 },
 "nbformat": 4,
 "nbformat_minor": 5
}
