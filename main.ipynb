{
 "cells": [
  {
   "cell_type": "markdown",
   "id": "b4b7aa5e-cb92-4bbd-b5c6-e8090cf72bae",
   "metadata": {},
   "source": [
    "Import source"
   ]
  },
  {
   "cell_type": "code",
   "execution_count": 2,
   "id": "f024e127-d9fa-4034-801e-662d2ba35827",
   "metadata": {},
   "outputs": [],
   "source": [
    "import sys\n",
    "sys.path.append(\"src\")"
   ]
  },
  {
   "cell_type": "markdown",
   "id": "2b5079ed-cc4e-4e79-ad15-45cc4c839f2c",
   "metadata": {},
   "source": [
    "Initialize timer"
   ]
  },
  {
   "cell_type": "code",
   "execution_count": 4,
   "id": "533ae3cd-014e-455e-bb0d-07ac00912416",
   "metadata": {},
   "outputs": [],
   "source": [
    "import time\n",
    "from time import sleep\n",
    "start_time = time.time()"
   ]
  },
  {
   "cell_type": "markdown",
   "id": "1d023949-ab25-4aaa-8207-77a84af8b8a5",
   "metadata": {},
   "source": [
    "# 1. Setup Driver"
   ]
  },
  {
   "cell_type": "code",
   "execution_count": 6,
   "id": "7c4b4e89-04fb-4e68-9358-a34ee84fa7fa",
   "metadata": {},
   "outputs": [],
   "source": [
    "from driver import setup_driver\n",
    "driver = setup_driver()"
   ]
  },
  {
   "cell_type": "markdown",
   "id": "29120114-e414-444d-b054-2d1f493370c6",
   "metadata": {},
   "source": [
    "# 2. Login KINEO"
   ]
  },
  {
   "cell_type": "code",
   "execution_count": 8,
   "id": "cb9838b2-8494-41c9-b41b-4674ea629b39",
   "metadata": {},
   "outputs": [],
   "source": [
    "from login import login\n",
    "from config import USER_KEY, PASS_KEY\n",
    "\n",
    "login(driver,\n",
    "      url = 'https://aforadores.mitma.es/contadorestraficofomento/Login.aspx',\n",
    "      username = USER_KEY, \n",
    "      password = PASS_KEY)"
   ]
  },
  {
   "cell_type": "markdown",
   "id": "314953eb-cc31-4d35-8aea-33ce209ffc03",
   "metadata": {},
   "source": [
    "# 3. go to \"Informe por horas\" "
   ]
  },
  {
   "cell_type": "code",
   "execution_count": 10,
   "id": "5d0a7f13-5e74-4aee-9b4b-f4f805c107b0",
   "metadata": {},
   "outputs": [],
   "source": [
    "driver.get('https://aforadores.mitma.es/contadorestraficofomento/InformePorHorasCalzadaCarrilAforo.aspx')"
   ]
  },
  {
   "cell_type": "markdown",
   "id": "737d9f54-667d-4f52-b3d0-2870151e2d00",
   "metadata": {},
   "source": [
    "Initialize flag"
   ]
  },
  {
   "cell_type": "code",
   "execution_count": 12,
   "id": "ea498658-e184-4b82-884b-2186c1a8d163",
   "metadata": {},
   "outputs": [],
   "source": [
    "flag = True"
   ]
  },
  {
   "cell_type": "markdown",
   "id": "4ec1ff40-4191-4d40-90e4-0cac7db9d29f",
   "metadata": {},
   "source": [
    "# 4. AP7 BARCELONA SECTOR 4"
   ]
  },
  {
   "cell_type": "markdown",
   "id": "3f722342-59be-46b0-9d32-ebfcd9050990",
   "metadata": {},
   "source": [
    "## Dropdown 'Demarcación'"
   ]
  },
  {
   "cell_type": "code",
   "execution_count": 15,
   "id": "b9229451-46b1-48a2-8c1d-cc3182eee147",
   "metadata": {},
   "outputs": [],
   "source": [
    "from dropdown import select_dropdown_value\n",
    "\n",
    "select_dropdown_value(driver, \n",
    "                      input_id = \"ctl00_ContentPlaceHolderDatos_CbDemarcacion_I\",\n",
    "                      dropdown_button_id = \"ctl00_ContentPlaceHolderDatos_CbDemarcacion_B-1\",\n",
    "                      value = \"AP7 BARCELONA SECTOR 4\")\n",
    "\n",
    "# sleep(1)"
   ]
  },
  {
   "cell_type": "markdown",
   "id": "a7fd9b15-cad6-44d2-8e9b-ee780cc63924",
   "metadata": {},
   "source": [
    "## ETD values"
   ]
  },
  {
   "cell_type": "code",
   "execution_count": 17,
   "id": "2b947507-c24f-4d2b-a119-f44c3c18a697",
   "metadata": {},
   "outputs": [],
   "source": [
    "dropdown_values_etd = ['AP7-125+650-100270000000', 'AP7-129+500-100280000000', 'AP7-134+050-100290000000']"
   ]
  },
  {
   "cell_type": "markdown",
   "id": "4413e05a-8cc2-46c5-bcd1-7c7af03cc10a",
   "metadata": {},
   "source": [
    "## Download Excel result"
   ]
  },
  {
   "cell_type": "code",
   "execution_count": 19,
   "id": "95acb6e7-7d8e-486a-9160-b6d5a3e31b5e",
   "metadata": {},
   "outputs": [
    {
     "name": "stdout",
     "output_type": "stream",
     "text": [
      "Could not click the button: Message: (1661, 289) is out of bounds of viewport width (1536) and height (739)\n",
      "Stacktrace:\n",
      "RemoteError@chrome://remote/content/shared/RemoteError.sys.mjs:8:8\n",
      "WebDriverError@chrome://remote/content/shared/webdriver/Errors.sys.mjs:187:5\n",
      "MoveTargetOutOfBoundsError@chrome://remote/content/shared/webdriver/Errors.sys.mjs:473:5\n",
      "assertInViewPort@chrome://remote/content/shared/webdriver/Actions.sys.mjs:2131:11\n",
      "dispatch@chrome://remote/content/shared/webdriver/Actions.sys.mjs:1026:21\n",
      "dispatch/pendingEvents<@chrome://remote/content/shared/webdriver/Actions.sys.mjs:1845:14\n",
      "dispatch@chrome://remote/content/shared/webdriver/Actions.sys.mjs:1844:39\n",
      "dispatch/chainEvents<@chrome://remote/content/shared/webdriver/Actions.sys.mjs:1770:27\n",
      "dispatch@chrome://remote/content/shared/webdriver/Actions.sys.mjs:1772:7\n",
      "performActions@chrome://remote/content/marionette/actors/MarionetteCommandsChild.sys.mjs:516:23\n",
      "receiveMessage@chrome://remote/content/marionette/actors/MarionetteCommandsChild.sys.mjs:156:31\n",
      "\n"
     ]
    },
    {
     "ename": "WebDriverException",
     "evalue": "Message: Failed to decode response from marionette\n",
     "output_type": "error",
     "traceback": [
      "\u001b[1;31m---------------------------------------------------------------------------\u001b[0m",
      "\u001b[1;31mWebDriverException\u001b[0m                        Traceback (most recent call last)",
      "Cell \u001b[1;32mIn[19], line 56\u001b[0m\n\u001b[0;32m     53\u001b[0m \u001b[38;5;28;01mwhile\u001b[39;00m \u001b[38;5;28;01mTrue\u001b[39;00m:\n\u001b[0;32m     54\u001b[0m     \u001b[38;5;28;01mtry\u001b[39;00m:\n\u001b[0;32m     55\u001b[0m         \u001b[38;5;66;03m# Check if \"LoadingPanel\" is visible\u001b[39;00m\n\u001b[1;32m---> 56\u001b[0m         WebDriverWait(driver, \u001b[38;5;241m1\u001b[39m)\u001b[38;5;241m.\u001b[39muntil( \n\u001b[0;32m     57\u001b[0m             EC\u001b[38;5;241m.\u001b[39mvisibility_of_element_located((By\u001b[38;5;241m.\u001b[39mID, \u001b[38;5;124m\"\u001b[39m\u001b[38;5;124mLoadingPanel\u001b[39m\u001b[38;5;124m\"\u001b[39m))\n\u001b[0;32m     58\u001b[0m         )\n\u001b[0;32m     59\u001b[0m     \u001b[38;5;28;01mexcept\u001b[39;00m TimeoutException:\n\u001b[0;32m     60\u001b[0m         \u001b[38;5;28;01mbreak\u001b[39;00m\n",
      "File \u001b[1;32mC:\\ProgramData\\anaconda3\\Lib\\site-packages\\selenium\\webdriver\\support\\wait.py:96\u001b[0m, in \u001b[0;36mWebDriverWait.until\u001b[1;34m(self, method, message)\u001b[0m\n\u001b[0;32m     94\u001b[0m \u001b[38;5;28;01mwhile\u001b[39;00m \u001b[38;5;28;01mTrue\u001b[39;00m:\n\u001b[0;32m     95\u001b[0m     \u001b[38;5;28;01mtry\u001b[39;00m:\n\u001b[1;32m---> 96\u001b[0m         value \u001b[38;5;241m=\u001b[39m method(\u001b[38;5;28mself\u001b[39m\u001b[38;5;241m.\u001b[39m_driver)\n\u001b[0;32m     97\u001b[0m         \u001b[38;5;28;01mif\u001b[39;00m value:\n\u001b[0;32m     98\u001b[0m             \u001b[38;5;28;01mreturn\u001b[39;00m value\n",
      "File \u001b[1;32mC:\\ProgramData\\anaconda3\\Lib\\site-packages\\selenium\\webdriver\\support\\expected_conditions.py:156\u001b[0m, in \u001b[0;36mvisibility_of_element_located.<locals>._predicate\u001b[1;34m(driver)\u001b[0m\n\u001b[0;32m    154\u001b[0m \u001b[38;5;28;01mdef\u001b[39;00m \u001b[38;5;21m_predicate\u001b[39m(driver: WebDriverOrWebElement):\n\u001b[0;32m    155\u001b[0m     \u001b[38;5;28;01mtry\u001b[39;00m:\n\u001b[1;32m--> 156\u001b[0m         \u001b[38;5;28;01mreturn\u001b[39;00m _element_if_visible(driver\u001b[38;5;241m.\u001b[39mfind_element(\u001b[38;5;241m*\u001b[39mlocator))\n\u001b[0;32m    157\u001b[0m     \u001b[38;5;28;01mexcept\u001b[39;00m StaleElementReferenceException:\n\u001b[0;32m    158\u001b[0m         \u001b[38;5;28;01mreturn\u001b[39;00m \u001b[38;5;28;01mFalse\u001b[39;00m\n",
      "File \u001b[1;32mC:\\ProgramData\\anaconda3\\Lib\\site-packages\\selenium\\webdriver\\remote\\webdriver.py:741\u001b[0m, in \u001b[0;36mWebDriver.find_element\u001b[1;34m(self, by, value)\u001b[0m\n\u001b[0;32m    738\u001b[0m     by \u001b[38;5;241m=\u001b[39m By\u001b[38;5;241m.\u001b[39mCSS_SELECTOR\n\u001b[0;32m    739\u001b[0m     value \u001b[38;5;241m=\u001b[39m \u001b[38;5;124mf\u001b[39m\u001b[38;5;124m'\u001b[39m\u001b[38;5;124m[name=\u001b[39m\u001b[38;5;124m\"\u001b[39m\u001b[38;5;132;01m{\u001b[39;00mvalue\u001b[38;5;132;01m}\u001b[39;00m\u001b[38;5;124m\"\u001b[39m\u001b[38;5;124m]\u001b[39m\u001b[38;5;124m'\u001b[39m\n\u001b[1;32m--> 741\u001b[0m \u001b[38;5;28;01mreturn\u001b[39;00m \u001b[38;5;28mself\u001b[39m\u001b[38;5;241m.\u001b[39mexecute(Command\u001b[38;5;241m.\u001b[39mFIND_ELEMENT, {\u001b[38;5;124m\"\u001b[39m\u001b[38;5;124musing\u001b[39m\u001b[38;5;124m\"\u001b[39m: by, \u001b[38;5;124m\"\u001b[39m\u001b[38;5;124mvalue\u001b[39m\u001b[38;5;124m\"\u001b[39m: value})[\u001b[38;5;124m\"\u001b[39m\u001b[38;5;124mvalue\u001b[39m\u001b[38;5;124m\"\u001b[39m]\n",
      "File \u001b[1;32mC:\\ProgramData\\anaconda3\\Lib\\site-packages\\selenium\\webdriver\\remote\\webdriver.py:347\u001b[0m, in \u001b[0;36mWebDriver.execute\u001b[1;34m(self, driver_command, params)\u001b[0m\n\u001b[0;32m    345\u001b[0m response \u001b[38;5;241m=\u001b[39m \u001b[38;5;28mself\u001b[39m\u001b[38;5;241m.\u001b[39mcommand_executor\u001b[38;5;241m.\u001b[39mexecute(driver_command, params)\n\u001b[0;32m    346\u001b[0m \u001b[38;5;28;01mif\u001b[39;00m response:\n\u001b[1;32m--> 347\u001b[0m     \u001b[38;5;28mself\u001b[39m\u001b[38;5;241m.\u001b[39merror_handler\u001b[38;5;241m.\u001b[39mcheck_response(response)\n\u001b[0;32m    348\u001b[0m     response[\u001b[38;5;124m\"\u001b[39m\u001b[38;5;124mvalue\u001b[39m\u001b[38;5;124m\"\u001b[39m] \u001b[38;5;241m=\u001b[39m \u001b[38;5;28mself\u001b[39m\u001b[38;5;241m.\u001b[39m_unwrap_value(response\u001b[38;5;241m.\u001b[39mget(\u001b[38;5;124m\"\u001b[39m\u001b[38;5;124mvalue\u001b[39m\u001b[38;5;124m\"\u001b[39m, \u001b[38;5;28;01mNone\u001b[39;00m))\n\u001b[0;32m    349\u001b[0m     \u001b[38;5;28;01mreturn\u001b[39;00m response\n",
      "File \u001b[1;32mC:\\ProgramData\\anaconda3\\Lib\\site-packages\\selenium\\webdriver\\remote\\errorhandler.py:229\u001b[0m, in \u001b[0;36mErrorHandler.check_response\u001b[1;34m(self, response)\u001b[0m\n\u001b[0;32m    227\u001b[0m         alert_text \u001b[38;5;241m=\u001b[39m value[\u001b[38;5;124m\"\u001b[39m\u001b[38;5;124malert\u001b[39m\u001b[38;5;124m\"\u001b[39m]\u001b[38;5;241m.\u001b[39mget(\u001b[38;5;124m\"\u001b[39m\u001b[38;5;124mtext\u001b[39m\u001b[38;5;124m\"\u001b[39m)\n\u001b[0;32m    228\u001b[0m     \u001b[38;5;28;01mraise\u001b[39;00m exception_class(message, screen, stacktrace, alert_text)  \u001b[38;5;66;03m# type: ignore[call-arg]  # mypy is not smart enough here\u001b[39;00m\n\u001b[1;32m--> 229\u001b[0m \u001b[38;5;28;01mraise\u001b[39;00m exception_class(message, screen, stacktrace)\n",
      "\u001b[1;31mWebDriverException\u001b[0m: Message: Failed to decode response from marionette\n"
     ]
    }
   ],
   "source": [
    "from button import click_button, download_excel\n",
    "from dates import get_week, select_date\n",
    "from selenium.webdriver.support.ui import WebDriverWait\n",
    "from selenium.webdriver.support import expected_conditions as EC\n",
    "from selenium.webdriver.common.by import By\n",
    "from selenium.common.exceptions import TimeoutException\n",
    "import pyautogui\n",
    "from utils import print_elapsed_time, check_no_data_message\n",
    "\n",
    "# Get days of the past week\n",
    "week = get_week()\n",
    "\n",
    "for value_to_select_etd in dropdown_values_etd:\n",
    "\n",
    "    # Select ETD value\n",
    "    select_dropdown_value(driver,\n",
    "                          input_id = 'ctl00_ContentPlaceHolderDatos_CbEtd_I',\n",
    "                          dropdown_button_id = 'ctl00_ContentPlaceHolderDatos_CbEtd_B-1',\n",
    "                          value = value_to_select_etd)\n",
    "\n",
    "    sleep(1)\n",
    "\n",
    "    # For every weekday\n",
    "    for i in range(len(week) - 1):\n",
    "\n",
    "        # Initial/End date selector\n",
    "        select_date(driver,\n",
    "                    date_picker_id = 'LbFechaInicio_I',\n",
    "                    date_str = f'{week[i]} 00:00:00')\n",
    "        \n",
    "        select_date(driver,\n",
    "                    date_picker_id = 'LbFechaFin_I',\n",
    "                    date_str = f'{week[i + 1]} 00:00:00')\n",
    "        \n",
    "        sleep(1)\n",
    "    \n",
    "        # Select Desglose value\n",
    "        select_dropdown_value(driver,\n",
    "                              input_id = \"ctl00_ContentPlaceHolderDatos_CbDesglose_I\",\n",
    "                              dropdown_button_id = \"ctl00_ContentPlaceHolderDatos_CbDesglose_B-1\",\n",
    "                              value = \"CARRIL\")\n",
    "    \n",
    "        sleep(1)\n",
    "    \n",
    "        # Click 'Ver' button\n",
    "        click_button(driver, \n",
    "                     button_id = \"ctl00_ContentPlaceHolderDatos_BtVerListado_I\")\n",
    "    \n",
    "        # Wait for \"LoadingPanel\" to appear\n",
    "        sleep(2)\n",
    "    \n",
    "        # Wait until results table is loaded\n",
    "        while True:\n",
    "            try:\n",
    "                # Check if \"LoadingPanel\" is visible\n",
    "                WebDriverWait(driver, 1).until( \n",
    "                    EC.visibility_of_element_located((By.ID, \"LoadingPanel\"))\n",
    "                )\n",
    "            except TimeoutException:\n",
    "                break\n",
    "    \n",
    "        sleep(2)\n",
    "    \n",
    "        # While message \"No hay datos para mostrar\" is not shown, Excel will be downloaded\n",
    "        if not check_no_data_message(driver):\n",
    "\n",
    "            # only need to do it once\n",
    "            if flag:\n",
    "                # 80% zoom adjustment\n",
    "                pyautogui.keyDown('ctrl') ##### per a què això funcioni, cal tenir el firefox obert (no minimitzat). buscar una alternativa.\n",
    "                pyautogui.press('-')\n",
    "                pyautogui.press('-')\n",
    "                pyautogui.keyUp('ctrl')\n",
    "    \n",
    "                flag = False\n",
    "            \n",
    "            # Click to download Excel\n",
    "            download_excel(driver,\n",
    "                           button_id = \"ctl00_ContentPlaceHolderDatos_BtExcel_I\") \n",
    "            \n",
    "            sleep(2)  # Wait till download is completed \n",
    "            \n",
    "        else:\n",
    "            print(f\"La ETD {value_to_select_etd} no conté dades a la seva taula. No es baixarà cap document Excel.\")\n",
    "    \n",
    "        # printar elapsed time\n",
    "        # print_elapsed_time(start_time)\n",
    "        # print()\n",
    "\n",
    "driver.quit()"
   ]
  },
  {
   "cell_type": "markdown",
   "id": "0b6cb9e5-0a84-48be-8318-936c68100870",
   "metadata": {},
   "source": [
    "# 5. AP7 BARCELONA SECTOR 5"
   ]
  }
 ],
 "metadata": {
  "kernelspec": {
   "display_name": "Python 3 (ipykernel)",
   "language": "python",
   "name": "python3"
  },
  "language_info": {
   "codemirror_mode": {
    "name": "ipython",
    "version": 3
   },
   "file_extension": ".py",
   "mimetype": "text/x-python",
   "name": "python",
   "nbconvert_exporter": "python",
   "pygments_lexer": "ipython3",
   "version": "3.11.7"
  }
 },
 "nbformat": 4,
 "nbformat_minor": 5
}
